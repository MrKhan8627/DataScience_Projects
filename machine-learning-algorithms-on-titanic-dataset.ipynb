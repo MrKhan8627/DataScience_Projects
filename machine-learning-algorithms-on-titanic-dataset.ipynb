{
 "cells": [
  {
   "cell_type": "markdown",
   "id": "53dd9481",
   "metadata": {
    "_cell_guid": "b1076dfc-b9ad-4769-8c92-a6c4dae69d19",
    "_uuid": "8f2839f25d086af736a60e9eeb907d3b93b6e0e5",
    "papermill": {
     "duration": 0.043132,
     "end_time": "2022-09-26T19:53:46.976843",
     "exception": false,
     "start_time": "2022-09-26T19:53:46.933711",
     "status": "completed"
    },
    "tags": []
   },
   "source": [
    "# Machine Learning Algorithem on Titanic Dataset"
   ]
  },
  {
   "cell_type": "markdown",
   "id": "82ead218",
   "metadata": {
    "papermill": {
     "duration": 0.04092,
     "end_time": "2022-09-26T19:53:47.061641",
     "exception": false,
     "start_time": "2022-09-26T19:53:47.020721",
     "status": "completed"
    },
    "tags": []
   },
   "source": [
    "## Import Libraries"
   ]
  },
  {
   "cell_type": "code",
   "execution_count": 1,
   "id": "122a7a93",
   "metadata": {
    "execution": {
     "iopub.execute_input": "2022-09-26T19:53:47.150871Z",
     "iopub.status.busy": "2022-09-26T19:53:47.149060Z",
     "iopub.status.idle": "2022-09-26T19:53:48.165396Z",
     "shell.execute_reply": "2022-09-26T19:53:48.164387Z",
     "shell.execute_reply.started": "2022-09-26T19:49:41.081536Z"
    },
    "papermill": {
     "duration": 1.062725,
     "end_time": "2022-09-26T19:53:48.165602",
     "exception": false,
     "start_time": "2022-09-26T19:53:47.102877",
     "status": "completed"
    },
    "tags": []
   },
   "outputs": [],
   "source": [
    "import pandas as pd \n",
    "import numpy as np \n",
    "import seaborn as sns \n",
    "import matplotlib.pyplot as plt\n",
    "%matplotlib inline"
   ]
  },
  {
   "cell_type": "markdown",
   "id": "c524356a",
   "metadata": {
    "papermill": {
     "duration": 0.04132,
     "end_time": "2022-09-26T19:53:48.248988",
     "exception": false,
     "start_time": "2022-09-26T19:53:48.207668",
     "status": "completed"
    },
    "tags": []
   },
   "source": [
    "## Get the Data"
   ]
  },
  {
   "cell_type": "code",
   "execution_count": 2,
   "id": "5ec05a7b",
   "metadata": {
    "execution": {
     "iopub.execute_input": "2022-09-26T19:53:48.337695Z",
     "iopub.status.busy": "2022-09-26T19:53:48.336894Z",
     "iopub.status.idle": "2022-09-26T19:53:48.383344Z",
     "shell.execute_reply": "2022-09-26T19:53:48.383874Z",
     "shell.execute_reply.started": "2022-09-26T19:49:41.991845Z"
    },
    "papermill": {
     "duration": 0.093753,
     "end_time": "2022-09-26T19:53:48.384087",
     "exception": false,
     "start_time": "2022-09-26T19:53:48.290334",
     "status": "completed"
    },
    "tags": []
   },
   "outputs": [
    {
     "data": {
      "text/html": [
       "<div>\n",
       "<style scoped>\n",
       "    .dataframe tbody tr th:only-of-type {\n",
       "        vertical-align: middle;\n",
       "    }\n",
       "\n",
       "    .dataframe tbody tr th {\n",
       "        vertical-align: top;\n",
       "    }\n",
       "\n",
       "    .dataframe thead th {\n",
       "        text-align: right;\n",
       "    }\n",
       "</style>\n",
       "<table border=\"1\" class=\"dataframe\">\n",
       "  <thead>\n",
       "    <tr style=\"text-align: right;\">\n",
       "      <th></th>\n",
       "      <th>PassengerId</th>\n",
       "      <th>Survived</th>\n",
       "      <th>Pclass</th>\n",
       "      <th>Name</th>\n",
       "      <th>Sex</th>\n",
       "      <th>Age</th>\n",
       "      <th>SibSp</th>\n",
       "      <th>Parch</th>\n",
       "      <th>Ticket</th>\n",
       "      <th>Fare</th>\n",
       "      <th>Cabin</th>\n",
       "      <th>Embarked</th>\n",
       "    </tr>\n",
       "  </thead>\n",
       "  <tbody>\n",
       "    <tr>\n",
       "      <th>0</th>\n",
       "      <td>1</td>\n",
       "      <td>0</td>\n",
       "      <td>3</td>\n",
       "      <td>Braund, Mr. Owen Harris</td>\n",
       "      <td>male</td>\n",
       "      <td>22.0</td>\n",
       "      <td>1</td>\n",
       "      <td>0</td>\n",
       "      <td>A/5 21171</td>\n",
       "      <td>7.2500</td>\n",
       "      <td>NaN</td>\n",
       "      <td>S</td>\n",
       "    </tr>\n",
       "    <tr>\n",
       "      <th>1</th>\n",
       "      <td>2</td>\n",
       "      <td>1</td>\n",
       "      <td>1</td>\n",
       "      <td>Cumings, Mrs. John Bradley (Florence Briggs Th...</td>\n",
       "      <td>female</td>\n",
       "      <td>38.0</td>\n",
       "      <td>1</td>\n",
       "      <td>0</td>\n",
       "      <td>PC 17599</td>\n",
       "      <td>71.2833</td>\n",
       "      <td>C85</td>\n",
       "      <td>C</td>\n",
       "    </tr>\n",
       "    <tr>\n",
       "      <th>2</th>\n",
       "      <td>3</td>\n",
       "      <td>1</td>\n",
       "      <td>3</td>\n",
       "      <td>Heikkinen, Miss. Laina</td>\n",
       "      <td>female</td>\n",
       "      <td>26.0</td>\n",
       "      <td>0</td>\n",
       "      <td>0</td>\n",
       "      <td>STON/O2. 3101282</td>\n",
       "      <td>7.9250</td>\n",
       "      <td>NaN</td>\n",
       "      <td>S</td>\n",
       "    </tr>\n",
       "    <tr>\n",
       "      <th>3</th>\n",
       "      <td>4</td>\n",
       "      <td>1</td>\n",
       "      <td>1</td>\n",
       "      <td>Futrelle, Mrs. Jacques Heath (Lily May Peel)</td>\n",
       "      <td>female</td>\n",
       "      <td>35.0</td>\n",
       "      <td>1</td>\n",
       "      <td>0</td>\n",
       "      <td>113803</td>\n",
       "      <td>53.1000</td>\n",
       "      <td>C123</td>\n",
       "      <td>S</td>\n",
       "    </tr>\n",
       "    <tr>\n",
       "      <th>4</th>\n",
       "      <td>5</td>\n",
       "      <td>0</td>\n",
       "      <td>3</td>\n",
       "      <td>Allen, Mr. William Henry</td>\n",
       "      <td>male</td>\n",
       "      <td>35.0</td>\n",
       "      <td>0</td>\n",
       "      <td>0</td>\n",
       "      <td>373450</td>\n",
       "      <td>8.0500</td>\n",
       "      <td>NaN</td>\n",
       "      <td>S</td>\n",
       "    </tr>\n",
       "  </tbody>\n",
       "</table>\n",
       "</div>"
      ],
      "text/plain": [
       "   PassengerId  Survived  Pclass  \\\n",
       "0            1         0       3   \n",
       "1            2         1       1   \n",
       "2            3         1       3   \n",
       "3            4         1       1   \n",
       "4            5         0       3   \n",
       "\n",
       "                                                Name     Sex   Age  SibSp  \\\n",
       "0                            Braund, Mr. Owen Harris    male  22.0      1   \n",
       "1  Cumings, Mrs. John Bradley (Florence Briggs Th...  female  38.0      1   \n",
       "2                             Heikkinen, Miss. Laina  female  26.0      0   \n",
       "3       Futrelle, Mrs. Jacques Heath (Lily May Peel)  female  35.0      1   \n",
       "4                           Allen, Mr. William Henry    male  35.0      0   \n",
       "\n",
       "   Parch            Ticket     Fare Cabin Embarked  \n",
       "0      0         A/5 21171   7.2500   NaN        S  \n",
       "1      0          PC 17599  71.2833   C85        C  \n",
       "2      0  STON/O2. 3101282   7.9250   NaN        S  \n",
       "3      0            113803  53.1000  C123        S  \n",
       "4      0            373450   8.0500   NaN        S  "
      ]
     },
     "execution_count": 2,
     "metadata": {},
     "output_type": "execute_result"
    }
   ],
   "source": [
    "data = pd.read_csv('../input/titanic-datasets/titanic_train.csv')\n",
    "data.head()"
   ]
  },
  {
   "cell_type": "markdown",
   "id": "b96a8d15",
   "metadata": {
    "papermill": {
     "duration": 0.042167,
     "end_time": "2022-09-26T19:53:48.468849",
     "exception": false,
     "start_time": "2022-09-26T19:53:48.426682",
     "status": "completed"
    },
    "tags": []
   },
   "source": [
    "## Exploratory Data Analysis"
   ]
  },
  {
   "cell_type": "code",
   "execution_count": 3,
   "id": "ec79320c",
   "metadata": {
    "execution": {
     "iopub.execute_input": "2022-09-26T19:53:48.558361Z",
     "iopub.status.busy": "2022-09-26T19:53:48.557242Z",
     "iopub.status.idle": "2022-09-26T19:53:48.951538Z",
     "shell.execute_reply": "2022-09-26T19:53:48.950991Z",
     "shell.execute_reply.started": "2022-09-26T19:49:42.036188Z"
    },
    "papermill": {
     "duration": 0.440537,
     "end_time": "2022-09-26T19:53:48.951711",
     "exception": false,
     "start_time": "2022-09-26T19:53:48.511174",
     "status": "completed"
    },
    "tags": []
   },
   "outputs": [
    {
     "data": {
      "text/plain": [
       "<AxesSubplot:>"
      ]
     },
     "execution_count": 3,
     "metadata": {},
     "output_type": "execute_result"
    },
    {
     "data": {
      "image/png": "[encoded data removed]",
      "text/plain": [
       "<Figure size 720x360 with 2 Axes>"
      ]
     },
     "metadata": {
      "needs_background": "light"
     },
     "output_type": "display_data"
    }
   ],
   "source": [
    "plt.figure(figsize=(10,5))\n",
    "sns.heatmap(data.isnull(),yticklabels=False, cbar=True, cmap='viridis')"
   ]
  },
  {
   "cell_type": "code",
   "execution_count": 4,
   "id": "1655e0a3",
   "metadata": {
    "execution": {
     "iopub.execute_input": "2022-09-26T19:53:49.059894Z",
     "iopub.status.busy": "2022-09-26T19:53:49.058689Z",
     "iopub.status.idle": "2022-09-26T19:53:49.274813Z",
     "shell.execute_reply": "2022-09-26T19:53:49.274287Z",
     "shell.execute_reply.started": "2022-09-26T19:49:42.404168Z"
    },
    "papermill": {
     "duration": 0.278799,
     "end_time": "2022-09-26T19:53:49.274980",
     "exception": false,
     "start_time": "2022-09-26T19:53:48.996181",
     "status": "completed"
    },
    "tags": []
   },
   "outputs": [
    {
     "data": {
      "text/plain": [
       "<AxesSubplot:xlabel='Survived', ylabel='count'>"
      ]
     },
     "execution_count": 4,
     "metadata": {},
     "output_type": "execute_result"
    },
    {
     "data": {
      "image/png": "[encoded data removed]",
      "text/plain": [
       "<Figure size 720x360 with 1 Axes>"
      ]
     },
     "metadata": {
      "needs_background": "light"
     },
     "output_type": "display_data"
    }
   ],
   "source": [
    "plt.figure(figsize=(10,5))\n",
    "sns.set_style('whitegrid')\n",
    "sns.countplot(x='Survived', data=data, palette='RdBu_r')"
   ]
  },
  {
   "cell_type": "code",
   "execution_count": 5,
   "id": "a90a7a24",
   "metadata": {
    "execution": {
     "iopub.execute_input": "2022-09-26T19:53:49.373260Z",
     "iopub.status.busy": "2022-09-26T19:53:49.372206Z",
     "iopub.status.idle": "2022-09-26T19:53:49.612975Z",
     "shell.execute_reply": "2022-09-26T19:53:49.612354Z",
     "shell.execute_reply.started": "2022-09-26T19:49:42.618167Z"
    },
    "papermill": {
     "duration": 0.293998,
     "end_time": "2022-09-26T19:53:49.613178",
     "exception": false,
     "start_time": "2022-09-26T19:53:49.319180",
     "status": "completed"
    },
    "tags": []
   },
   "outputs": [
    {
     "data": {
      "text/plain": [
       "<AxesSubplot:xlabel='Survived', ylabel='count'>"
      ]
     },
     "execution_count": 5,
     "metadata": {},
     "output_type": "execute_result"
    },
    {
     "data": {
      "image/png": "[encoded data removed]",
      "text/plain": [
       "<Figure size 720x360 with 1 Axes>"
      ]
     },
     "metadata": {},
     "output_type": "display_data"
    }
   ],
   "source": [
    "plt.figure(figsize=(10,5))\n",
    "sns.set_style('whitegrid')\n",
    "sns.countplot(x='Survived', data=data, hue='Sex', palette='RdBu_r')"
   ]
  },
  {
   "cell_type": "code",
   "execution_count": 6,
   "id": "94405222",
   "metadata": {
    "execution": {
     "iopub.execute_input": "2022-09-26T19:53:49.710208Z",
     "iopub.status.busy": "2022-09-26T19:53:49.709371Z",
     "iopub.status.idle": "2022-09-26T19:53:49.988807Z",
     "shell.execute_reply": "2022-09-26T19:53:49.989392Z",
     "shell.execute_reply.started": "2022-09-26T19:49:42.853006Z"
    },
    "papermill": {
     "duration": 0.329678,
     "end_time": "2022-09-26T19:53:49.989572",
     "exception": false,
     "start_time": "2022-09-26T19:53:49.659894",
     "status": "completed"
    },
    "tags": []
   },
   "outputs": [
    {
     "data": {
      "text/plain": [
       "<AxesSubplot:xlabel='Survived', ylabel='count'>"
      ]
     },
     "execution_count": 6,
     "metadata": {},
     "output_type": "execute_result"
    },
    {
     "data": {
      "image/png": "[encoded data removed]",
      "text/plain": [
       "<Figure size 720x360 with 1 Axes>"
      ]
     },
     "metadata": {},
     "output_type": "display_data"
    }
   ],
   "source": [
    "plt.figure(figsize=(10,5))\n",
    "sns.set_style('whitegrid')\n",
    "sns.countplot(x='Survived', data=data,hue='Pclass', palette='rainbow')"
   ]
  },
  {
   "cell_type": "code",
   "execution_count": 7,
   "id": "8a838af6",
   "metadata": {
    "execution": {
     "iopub.execute_input": "2022-09-26T19:53:50.085458Z",
     "iopub.status.busy": "2022-09-26T19:53:50.084762Z",
     "iopub.status.idle": "2022-09-26T19:53:50.470570Z",
     "shell.execute_reply": "2022-09-26T19:53:50.471167Z",
     "shell.execute_reply.started": "2022-09-26T19:49:43.114419Z"
    },
    "papermill": {
     "duration": 0.435268,
     "end_time": "2022-09-26T19:53:50.471360",
     "exception": false,
     "start_time": "2022-09-26T19:53:50.036092",
     "status": "completed"
    },
    "tags": []
   },
   "outputs": [
    {
     "data": {
      "text/plain": [
       "<AxesSubplot:>"
      ]
     },
     "execution_count": 7,
     "metadata": {},
     "output_type": "execute_result"
    },
    {
     "data": {
      "image/png": "[encoded data removed]",
      "text/plain": [
       "<Figure size 720x360 with 1 Axes>"
      ]
     },
     "metadata": {},
     "output_type": "display_data"
    }
   ],
   "source": [
    "plt.figure(figsize=(10,5))\n",
    "data['Age'].hist(bins=30, color='darkred', alpha=0.9)"
   ]
  },
  {
   "cell_type": "code",
   "execution_count": 8,
   "id": "62af6862",
   "metadata": {
    "execution": {
     "iopub.execute_input": "2022-09-26T19:53:50.570296Z",
     "iopub.status.busy": "2022-09-26T19:53:50.569638Z",
     "iopub.status.idle": "2022-09-26T19:53:50.943860Z",
     "shell.execute_reply": "2022-09-26T19:53:50.944507Z",
     "shell.execute_reply.started": "2022-09-26T19:49:43.490574Z"
    },
    "papermill": {
     "duration": 0.424591,
     "end_time": "2022-09-26T19:53:50.944690",
     "exception": false,
     "start_time": "2022-09-26T19:53:50.520099",
     "status": "completed"
    },
    "tags": []
   },
   "outputs": [
    {
     "data": {
      "text/plain": [
       "<AxesSubplot:xlabel='SibSp', ylabel='count'>"
      ]
     },
     "execution_count": 8,
     "metadata": {},
     "output_type": "execute_result"
    },
    {
     "data": {
      "image/png": "[encoded data removed]",
      "text/plain": [
       "<Figure size 720x360 with 1 Axes>"
      ]
     },
     "metadata": {},
     "output_type": "display_data"
    }
   ],
   "source": [
    "plt.figure(figsize=(10,5))\n",
    "sns.countplot(x='SibSp', data= data)"
   ]
  },
  {
   "cell_type": "code",
   "execution_count": 9,
   "id": "f42f6af6",
   "metadata": {
    "execution": {
     "iopub.execute_input": "2022-09-26T19:53:51.045577Z",
     "iopub.status.busy": "2022-09-26T19:53:51.044888Z",
     "iopub.status.idle": "2022-09-26T19:53:51.407586Z",
     "shell.execute_reply": "2022-09-26T19:53:51.406962Z",
     "shell.execute_reply.started": "2022-09-26T19:49:43.854005Z"
    },
    "papermill": {
     "duration": 0.414624,
     "end_time": "2022-09-26T19:53:51.407729",
     "exception": false,
     "start_time": "2022-09-26T19:53:50.993105",
     "status": "completed"
    },
    "tags": []
   },
   "outputs": [
    {
     "data": {
      "text/plain": [
       "<AxesSubplot:>"
      ]
     },
     "execution_count": 9,
     "metadata": {},
     "output_type": "execute_result"
    },
    {
     "data": {
      "image/png": "[encoded data removed]",
      "text/plain": [
       "<Figure size 720x360 with 1 Axes>"
      ]
     },
     "metadata": {},
     "output_type": "display_data"
    }
   ],
   "source": [
    "data['Fare'].hist(color='green', bins=40, figsize=(10,5))"
   ]
  },
  {
   "cell_type": "markdown",
   "id": "e9c56c17",
   "metadata": {
    "papermill": {
     "duration": 0.049988,
     "end_time": "2022-09-26T19:53:51.506488",
     "exception": false,
     "start_time": "2022-09-26T19:53:51.456500",
     "status": "completed"
    },
    "tags": []
   },
   "source": [
    "## Data Cleaning "
   ]
  },
  {
   "cell_type": "code",
   "execution_count": 10,
   "id": "7bfade02",
   "metadata": {
    "execution": {
     "iopub.execute_input": "2022-09-26T19:53:51.611241Z",
     "iopub.status.busy": "2022-09-26T19:53:51.610045Z",
     "iopub.status.idle": "2022-09-26T19:53:51.881713Z",
     "shell.execute_reply": "2022-09-26T19:53:51.881045Z",
     "shell.execute_reply.started": "2022-09-26T19:49:44.228151Z"
    },
    "papermill": {
     "duration": 0.326271,
     "end_time": "2022-09-26T19:53:51.881859",
     "exception": false,
     "start_time": "2022-09-26T19:53:51.555588",
     "status": "completed"
    },
    "tags": []
   },
   "outputs": [
    {
     "data": {
      "text/plain": [
       "<AxesSubplot:xlabel='Pclass', ylabel='Age'>"
      ]
     },
     "execution_count": 10,
     "metadata": {},
     "output_type": "execute_result"
    },
    {
     "data": {
      "image/png": "[encoded data removed]",
      "text/plain": [
       "<Figure size 720x360 with 1 Axes>"
      ]
     },
     "metadata": {},
     "output_type": "display_data"
    }
   ],
   "source": [
    "plt.figure(figsize=(10,5))\n",
    "sns.boxplot(x='Pclass', y='Age', data= data, palette='rainbow')"
   ]
  },
  {
   "cell_type": "markdown",
   "id": "a96a014e",
   "metadata": {
    "papermill": {
     "duration": 0.050657,
     "end_time": "2022-09-26T19:53:51.982418",
     "exception": false,
     "start_time": "2022-09-26T19:53:51.931761",
     "status": "completed"
    },
    "tags": []
   },
   "source": [
    " **we make a function that fill the null value as a means of ages with respect to Pclass**"
   ]
  },
  {
   "cell_type": "code",
   "execution_count": 11,
   "id": "9d65bf88",
   "metadata": {
    "execution": {
     "iopub.execute_input": "2022-09-26T19:53:52.088578Z",
     "iopub.status.busy": "2022-09-26T19:53:52.087941Z",
     "iopub.status.idle": "2022-09-26T19:53:52.093130Z",
     "shell.execute_reply": "2022-09-26T19:53:52.093752Z",
     "shell.execute_reply.started": "2022-09-26T19:49:44.497665Z"
    },
    "papermill": {
     "duration": 0.059414,
     "end_time": "2022-09-26T19:53:52.093963",
     "exception": false,
     "start_time": "2022-09-26T19:53:52.034549",
     "status": "completed"
    },
    "tags": []
   },
   "outputs": [],
   "source": [
    "def impute_age(cols):\n",
    "    Age = cols[0]\n",
    "    Pclass = cols[1]\n",
    "    \n",
    "    if pd.isnull(Age):\n",
    "        \n",
    "        if Pclass == 1:\n",
    "            return 37\n",
    "        elif Pclass == 2:\n",
    "            return 29\n",
    "        else: \n",
    "            return 24\n",
    "    else:\n",
    "        return Age"
   ]
  },
  {
   "cell_type": "code",
   "execution_count": 12,
   "id": "97d5d610",
   "metadata": {
    "execution": {
     "iopub.execute_input": "2022-09-26T19:53:52.196451Z",
     "iopub.status.busy": "2022-09-26T19:53:52.195726Z",
     "iopub.status.idle": "2022-09-26T19:53:52.213384Z",
     "shell.execute_reply": "2022-09-26T19:53:52.213908Z",
     "shell.execute_reply.started": "2022-09-26T19:49:44.504558Z"
    },
    "papermill": {
     "duration": 0.070415,
     "end_time": "2022-09-26T19:53:52.214108",
     "exception": false,
     "start_time": "2022-09-26T19:53:52.143693",
     "status": "completed"
    },
    "tags": []
   },
   "outputs": [],
   "source": [
    "data['Age'] = data[['Age','Pclass']].apply(impute_age, axis=1)"
   ]
  },
  {
   "cell_type": "code",
   "execution_count": 13,
   "id": "0671e812",
   "metadata": {
    "execution": {
     "iopub.execute_input": "2022-09-26T19:53:52.317146Z",
     "iopub.status.busy": "2022-09-26T19:53:52.316470Z",
     "iopub.status.idle": "2022-09-26T19:53:52.708493Z",
     "shell.execute_reply": "2022-09-26T19:53:52.707799Z",
     "shell.execute_reply.started": "2022-09-26T19:49:44.531986Z"
    },
    "papermill": {
     "duration": 0.444698,
     "end_time": "2022-09-26T19:53:52.708641",
     "exception": false,
     "start_time": "2022-09-26T19:53:52.263943",
     "status": "completed"
    },
    "tags": []
   },
   "outputs": [
    {
     "data": {
      "text/plain": [
       "<AxesSubplot:>"
      ]
     },
     "execution_count": 13,
     "metadata": {},
     "output_type": "execute_result"
    },
    {
     "data": {
      "image/png": "[encoded data removed]",
      "text/plain": [
       "<Figure size 720x360 with 2 Axes>"
      ]
     },
     "metadata": {},
     "output_type": "display_data"
    }
   ],
   "source": [
    "plt.figure(figsize=(10,5))\n",
    "sns.heatmap(data.isnull(),yticklabels=False, cbar=True, cmap='viridis')"
   ]
  },
  {
   "cell_type": "code",
   "execution_count": 14,
   "id": "6f49657c",
   "metadata": {
    "execution": {
     "iopub.execute_input": "2022-09-26T19:53:52.819612Z",
     "iopub.status.busy": "2022-09-26T19:53:52.818884Z",
     "iopub.status.idle": "2022-09-26T19:53:52.820328Z",
     "shell.execute_reply": "2022-09-26T19:53:52.820928Z",
     "shell.execute_reply.started": "2022-09-26T19:49:44.926216Z"
    },
    "papermill": {
     "duration": 0.059481,
     "end_time": "2022-09-26T19:53:52.821105",
     "exception": false,
     "start_time": "2022-09-26T19:53:52.761624",
     "status": "completed"
    },
    "tags": []
   },
   "outputs": [],
   "source": [
    "data.drop('Cabin', axis=1, inplace=True)"
   ]
  },
  {
   "cell_type": "code",
   "execution_count": 15,
   "id": "28d74a0d",
   "metadata": {
    "execution": {
     "iopub.execute_input": "2022-09-26T19:53:52.931170Z",
     "iopub.status.busy": "2022-09-26T19:53:52.930441Z",
     "iopub.status.idle": "2022-09-26T19:53:52.944740Z",
     "shell.execute_reply": "2022-09-26T19:53:52.945371Z",
     "shell.execute_reply.started": "2022-09-26T19:49:44.933582Z"
    },
    "papermill": {
     "duration": 0.069009,
     "end_time": "2022-09-26T19:53:52.945550",
     "exception": false,
     "start_time": "2022-09-26T19:53:52.876541",
     "status": "completed"
    },
    "tags": []
   },
   "outputs": [
    {
     "data": {
      "text/html": [
       "<div>\n",
       "<style scoped>\n",
       "    .dataframe tbody tr th:only-of-type {\n",
       "        vertical-align: middle;\n",
       "    }\n",
       "\n",
       "    .dataframe tbody tr th {\n",
       "        vertical-align: top;\n",
       "    }\n",
       "\n",
       "    .dataframe thead th {\n",
       "        text-align: right;\n",
       "    }\n",
       "</style>\n",
       "<table border=\"1\" class=\"dataframe\">\n",
       "  <thead>\n",
       "    <tr style=\"text-align: right;\">\n",
       "      <th></th>\n",
       "      <th>PassengerId</th>\n",
       "      <th>Survived</th>\n",
       "      <th>Pclass</th>\n",
       "      <th>Name</th>\n",
       "      <th>Sex</th>\n",
       "      <th>Age</th>\n",
       "      <th>SibSp</th>\n",
       "      <th>Parch</th>\n",
       "      <th>Ticket</th>\n",
       "      <th>Fare</th>\n",
       "      <th>Embarked</th>\n",
       "    </tr>\n",
       "  </thead>\n",
       "  <tbody>\n",
       "    <tr>\n",
       "      <th>0</th>\n",
       "      <td>1</td>\n",
       "      <td>0</td>\n",
       "      <td>3</td>\n",
       "      <td>Braund, Mr. Owen Harris</td>\n",
       "      <td>male</td>\n",
       "      <td>22.0</td>\n",
       "      <td>1</td>\n",
       "      <td>0</td>\n",
       "      <td>A/5 21171</td>\n",
       "      <td>7.2500</td>\n",
       "      <td>S</td>\n",
       "    </tr>\n",
       "    <tr>\n",
       "      <th>1</th>\n",
       "      <td>2</td>\n",
       "      <td>1</td>\n",
       "      <td>1</td>\n",
       "      <td>Cumings, Mrs. John Bradley (Florence Briggs Th...</td>\n",
       "      <td>female</td>\n",
       "      <td>38.0</td>\n",
       "      <td>1</td>\n",
       "      <td>0</td>\n",
       "      <td>PC 17599</td>\n",
       "      <td>71.2833</td>\n",
       "      <td>C</td>\n",
       "    </tr>\n",
       "    <tr>\n",
       "      <th>2</th>\n",
       "      <td>3</td>\n",
       "      <td>1</td>\n",
       "      <td>3</td>\n",
       "      <td>Heikkinen, Miss. Laina</td>\n",
       "      <td>female</td>\n",
       "      <td>26.0</td>\n",
       "      <td>0</td>\n",
       "      <td>0</td>\n",
       "      <td>STON/O2. 3101282</td>\n",
       "      <td>7.9250</td>\n",
       "      <td>S</td>\n",
       "    </tr>\n",
       "    <tr>\n",
       "      <th>3</th>\n",
       "      <td>4</td>\n",
       "      <td>1</td>\n",
       "      <td>1</td>\n",
       "      <td>Futrelle, Mrs. Jacques Heath (Lily May Peel)</td>\n",
       "      <td>female</td>\n",
       "      <td>35.0</td>\n",
       "      <td>1</td>\n",
       "      <td>0</td>\n",
       "      <td>113803</td>\n",
       "      <td>53.1000</td>\n",
       "      <td>S</td>\n",
       "    </tr>\n",
       "    <tr>\n",
       "      <th>4</th>\n",
       "      <td>5</td>\n",
       "      <td>0</td>\n",
       "      <td>3</td>\n",
       "      <td>Allen, Mr. William Henry</td>\n",
       "      <td>male</td>\n",
       "      <td>35.0</td>\n",
       "      <td>0</td>\n",
       "      <td>0</td>\n",
       "      <td>373450</td>\n",
       "      <td>8.0500</td>\n",
       "      <td>S</td>\n",
       "    </tr>\n",
       "  </tbody>\n",
       "</table>\n",
       "</div>"
      ],
      "text/plain": [
       "   PassengerId  Survived  Pclass  \\\n",
       "0            1         0       3   \n",
       "1            2         1       1   \n",
       "2            3         1       3   \n",
       "3            4         1       1   \n",
       "4            5         0       3   \n",
       "\n",
       "                                                Name     Sex   Age  SibSp  \\\n",
       "0                            Braund, Mr. Owen Harris    male  22.0      1   \n",
       "1  Cumings, Mrs. John Bradley (Florence Briggs Th...  female  38.0      1   \n",
       "2                             Heikkinen, Miss. Laina  female  26.0      0   \n",
       "3       Futrelle, Mrs. Jacques Heath (Lily May Peel)  female  35.0      1   \n",
       "4                           Allen, Mr. William Henry    male  35.0      0   \n",
       "\n",
       "   Parch            Ticket     Fare Embarked  \n",
       "0      0         A/5 21171   7.2500        S  \n",
       "1      0          PC 17599  71.2833        C  \n",
       "2      0  STON/O2. 3101282   7.9250        S  \n",
       "3      0            113803  53.1000        S  \n",
       "4      0            373450   8.0500        S  "
      ]
     },
     "execution_count": 15,
     "metadata": {},
     "output_type": "execute_result"
    }
   ],
   "source": [
    "data.head()"
   ]
  },
  {
   "cell_type": "code",
   "execution_count": 16,
   "id": "505c0a15",
   "metadata": {
    "execution": {
     "iopub.execute_input": "2022-09-26T19:53:53.052385Z",
     "iopub.status.busy": "2022-09-26T19:53:53.051697Z",
     "iopub.status.idle": "2022-09-26T19:53:53.058412Z",
     "shell.execute_reply": "2022-09-26T19:53:53.058940Z",
     "shell.execute_reply.started": "2022-09-26T19:49:44.955187Z"
    },
    "papermill": {
     "duration": 0.061918,
     "end_time": "2022-09-26T19:53:53.059149",
     "exception": false,
     "start_time": "2022-09-26T19:53:52.997231",
     "status": "completed"
    },
    "tags": []
   },
   "outputs": [],
   "source": [
    "data.dropna(inplace=True)"
   ]
  },
  {
   "cell_type": "markdown",
   "id": "a5a21029",
   "metadata": {
    "papermill": {
     "duration": 0.051721,
     "end_time": "2022-09-26T19:53:53.162483",
     "exception": false,
     "start_time": "2022-09-26T19:53:53.110762",
     "status": "completed"
    },
    "tags": []
   },
   "source": [
    "## Converting Categorical Features"
   ]
  },
  {
   "cell_type": "code",
   "execution_count": 17,
   "id": "befa2b33",
   "metadata": {
    "execution": {
     "iopub.execute_input": "2022-09-26T19:53:53.269840Z",
     "iopub.status.busy": "2022-09-26T19:53:53.269138Z",
     "iopub.status.idle": "2022-09-26T19:53:53.285131Z",
     "shell.execute_reply": "2022-09-26T19:53:53.285747Z",
     "shell.execute_reply.started": "2022-09-26T19:49:44.969156Z"
    },
    "papermill": {
     "duration": 0.070606,
     "end_time": "2022-09-26T19:53:53.285938",
     "exception": false,
     "start_time": "2022-09-26T19:53:53.215332",
     "status": "completed"
    },
    "tags": []
   },
   "outputs": [
    {
     "name": "stdout",
     "output_type": "stream",
     "text": [
      "<class 'pandas.core.frame.DataFrame'>\n",
      "Int64Index: 889 entries, 0 to 890\n",
      "Data columns (total 11 columns):\n",
      " #   Column       Non-Null Count  Dtype  \n",
      "---  ------       --------------  -----  \n",
      " 0   PassengerId  889 non-null    int64  \n",
      " 1   Survived     889 non-null    int64  \n",
      " 2   Pclass       889 non-null    int64  \n",
      " 3   Name         889 non-null    object \n",
      " 4   Sex          889 non-null    object \n",
      " 5   Age          889 non-null    float64\n",
      " 6   SibSp        889 non-null    int64  \n",
      " 7   Parch        889 non-null    int64  \n",
      " 8   Ticket       889 non-null    object \n",
      " 9   Fare         889 non-null    float64\n",
      " 10  Embarked     889 non-null    object \n",
      "dtypes: float64(2), int64(5), object(4)\n",
      "memory usage: 83.3+ KB\n"
     ]
    }
   ],
   "source": [
    "data.info()"
   ]
  },
  {
   "cell_type": "code",
   "execution_count": 18,
   "id": "bfba4a60",
   "metadata": {
    "execution": {
     "iopub.execute_input": "2022-09-26T19:53:53.392406Z",
     "iopub.status.busy": "2022-09-26T19:53:53.391746Z",
     "iopub.status.idle": "2022-09-26T19:53:53.397945Z",
     "shell.execute_reply": "2022-09-26T19:53:53.398494Z",
     "shell.execute_reply.started": "2022-09-26T19:49:44.993925Z"
    },
    "papermill": {
     "duration": 0.060884,
     "end_time": "2022-09-26T19:53:53.398689",
     "exception": false,
     "start_time": "2022-09-26T19:53:53.337805",
     "status": "completed"
    },
    "tags": []
   },
   "outputs": [],
   "source": [
    "sex = pd.get_dummies(data['Sex'],drop_first=True)\n",
    "embark = pd.get_dummies(data['Embarked'],drop_first=True)"
   ]
  },
  {
   "cell_type": "code",
   "execution_count": 19,
   "id": "587e0a54",
   "metadata": {
    "execution": {
     "iopub.execute_input": "2022-09-26T19:53:53.506793Z",
     "iopub.status.busy": "2022-09-26T19:53:53.506179Z",
     "iopub.status.idle": "2022-09-26T19:53:53.520758Z",
     "shell.execute_reply": "2022-09-26T19:53:53.521379Z",
     "shell.execute_reply.started": "2022-09-26T19:49:45.006304Z"
    },
    "papermill": {
     "duration": 0.070437,
     "end_time": "2022-09-26T19:53:53.521556",
     "exception": false,
     "start_time": "2022-09-26T19:53:53.451119",
     "status": "completed"
    },
    "tags": []
   },
   "outputs": [
    {
     "data": {
      "text/html": [
       "<div>\n",
       "<style scoped>\n",
       "    .dataframe tbody tr th:only-of-type {\n",
       "        vertical-align: middle;\n",
       "    }\n",
       "\n",
       "    .dataframe tbody tr th {\n",
       "        vertical-align: top;\n",
       "    }\n",
       "\n",
       "    .dataframe thead th {\n",
       "        text-align: right;\n",
       "    }\n",
       "</style>\n",
       "<table border=\"1\" class=\"dataframe\">\n",
       "  <thead>\n",
       "    <tr style=\"text-align: right;\">\n",
       "      <th></th>\n",
       "      <th>PassengerId</th>\n",
       "      <th>Survived</th>\n",
       "      <th>Pclass</th>\n",
       "      <th>Name</th>\n",
       "      <th>Sex</th>\n",
       "      <th>Age</th>\n",
       "      <th>SibSp</th>\n",
       "      <th>Parch</th>\n",
       "      <th>Ticket</th>\n",
       "      <th>Fare</th>\n",
       "      <th>Embarked</th>\n",
       "    </tr>\n",
       "  </thead>\n",
       "  <tbody>\n",
       "    <tr>\n",
       "      <th>0</th>\n",
       "      <td>1</td>\n",
       "      <td>0</td>\n",
       "      <td>3</td>\n",
       "      <td>Braund, Mr. Owen Harris</td>\n",
       "      <td>male</td>\n",
       "      <td>22.0</td>\n",
       "      <td>1</td>\n",
       "      <td>0</td>\n",
       "      <td>A/5 21171</td>\n",
       "      <td>7.2500</td>\n",
       "      <td>S</td>\n",
       "    </tr>\n",
       "    <tr>\n",
       "      <th>1</th>\n",
       "      <td>2</td>\n",
       "      <td>1</td>\n",
       "      <td>1</td>\n",
       "      <td>Cumings, Mrs. John Bradley (Florence Briggs Th...</td>\n",
       "      <td>female</td>\n",
       "      <td>38.0</td>\n",
       "      <td>1</td>\n",
       "      <td>0</td>\n",
       "      <td>PC 17599</td>\n",
       "      <td>71.2833</td>\n",
       "      <td>C</td>\n",
       "    </tr>\n",
       "    <tr>\n",
       "      <th>2</th>\n",
       "      <td>3</td>\n",
       "      <td>1</td>\n",
       "      <td>3</td>\n",
       "      <td>Heikkinen, Miss. Laina</td>\n",
       "      <td>female</td>\n",
       "      <td>26.0</td>\n",
       "      <td>0</td>\n",
       "      <td>0</td>\n",
       "      <td>STON/O2. 3101282</td>\n",
       "      <td>7.9250</td>\n",
       "      <td>S</td>\n",
       "    </tr>\n",
       "    <tr>\n",
       "      <th>3</th>\n",
       "      <td>4</td>\n",
       "      <td>1</td>\n",
       "      <td>1</td>\n",
       "      <td>Futrelle, Mrs. Jacques Heath (Lily May Peel)</td>\n",
       "      <td>female</td>\n",
       "      <td>35.0</td>\n",
       "      <td>1</td>\n",
       "      <td>0</td>\n",
       "      <td>113803</td>\n",
       "      <td>53.1000</td>\n",
       "      <td>S</td>\n",
       "    </tr>\n",
       "    <tr>\n",
       "      <th>4</th>\n",
       "      <td>5</td>\n",
       "      <td>0</td>\n",
       "      <td>3</td>\n",
       "      <td>Allen, Mr. William Henry</td>\n",
       "      <td>male</td>\n",
       "      <td>35.0</td>\n",
       "      <td>0</td>\n",
       "      <td>0</td>\n",
       "      <td>373450</td>\n",
       "      <td>8.0500</td>\n",
       "      <td>S</td>\n",
       "    </tr>\n",
       "  </tbody>\n",
       "</table>\n",
       "</div>"
      ],
      "text/plain": [
       "   PassengerId  Survived  Pclass  \\\n",
       "0            1         0       3   \n",
       "1            2         1       1   \n",
       "2            3         1       3   \n",
       "3            4         1       1   \n",
       "4            5         0       3   \n",
       "\n",
       "                                                Name     Sex   Age  SibSp  \\\n",
       "0                            Braund, Mr. Owen Harris    male  22.0      1   \n",
       "1  Cumings, Mrs. John Bradley (Florence Briggs Th...  female  38.0      1   \n",
       "2                             Heikkinen, Miss. Laina  female  26.0      0   \n",
       "3       Futrelle, Mrs. Jacques Heath (Lily May Peel)  female  35.0      1   \n",
       "4                           Allen, Mr. William Henry    male  35.0      0   \n",
       "\n",
       "   Parch            Ticket     Fare Embarked  \n",
       "0      0         A/5 21171   7.2500        S  \n",
       "1      0          PC 17599  71.2833        C  \n",
       "2      0  STON/O2. 3101282   7.9250        S  \n",
       "3      0            113803  53.1000        S  \n",
       "4      0            373450   8.0500        S  "
      ]
     },
     "execution_count": 19,
     "metadata": {},
     "output_type": "execute_result"
    }
   ],
   "source": [
    "data.head()"
   ]
  },
  {
   "cell_type": "code",
   "execution_count": 20,
   "id": "a72f46ec",
   "metadata": {
    "execution": {
     "iopub.execute_input": "2022-09-26T19:53:53.633667Z",
     "iopub.status.busy": "2022-09-26T19:53:53.632987Z",
     "iopub.status.idle": "2022-09-26T19:53:53.638156Z",
     "shell.execute_reply": "2022-09-26T19:53:53.638775Z",
     "shell.execute_reply.started": "2022-09-26T19:49:45.025917Z"
    },
    "papermill": {
     "duration": 0.064262,
     "end_time": "2022-09-26T19:53:53.638964",
     "exception": false,
     "start_time": "2022-09-26T19:53:53.574702",
     "status": "completed"
    },
    "tags": []
   },
   "outputs": [
    {
     "data": {
      "text/plain": [
       "Index(['PassengerId', 'Survived', 'Pclass', 'Name', 'Sex', 'Age', 'SibSp',\n",
       "       'Parch', 'Ticket', 'Fare', 'Embarked'],\n",
       "      dtype='object')"
      ]
     },
     "execution_count": 20,
     "metadata": {},
     "output_type": "execute_result"
    }
   ],
   "source": [
    "data.columns"
   ]
  },
  {
   "cell_type": "code",
   "execution_count": 21,
   "id": "7220a28b",
   "metadata": {
    "execution": {
     "iopub.execute_input": "2022-09-26T19:53:53.750724Z",
     "iopub.status.busy": "2022-09-26T19:53:53.750005Z",
     "iopub.status.idle": "2022-09-26T19:53:53.755031Z",
     "shell.execute_reply": "2022-09-26T19:53:53.755494Z",
     "shell.execute_reply.started": "2022-09-26T19:49:45.037694Z"
    },
    "papermill": {
     "duration": 0.061168,
     "end_time": "2022-09-26T19:53:53.755676",
     "exception": false,
     "start_time": "2022-09-26T19:53:53.694508",
     "status": "completed"
    },
    "tags": []
   },
   "outputs": [],
   "source": [
    "data.drop(['Name', 'Sex','Ticket','Embarked'], axis=1, inplace=True)"
   ]
  },
  {
   "cell_type": "code",
   "execution_count": 22,
   "id": "29240e8c",
   "metadata": {
    "execution": {
     "iopub.execute_input": "2022-09-26T19:53:53.876001Z",
     "iopub.status.busy": "2022-09-26T19:53:53.875118Z",
     "iopub.status.idle": "2022-09-26T19:53:53.878484Z",
     "shell.execute_reply": "2022-09-26T19:53:53.878992Z",
     "shell.execute_reply.started": "2022-09-26T19:49:45.049007Z"
    },
    "papermill": {
     "duration": 0.06963,
     "end_time": "2022-09-26T19:53:53.879170",
     "exception": false,
     "start_time": "2022-09-26T19:53:53.809540",
     "status": "completed"
    },
    "tags": []
   },
   "outputs": [
    {
     "data": {
      "text/html": [
       "<div>\n",
       "<style scoped>\n",
       "    .dataframe tbody tr th:only-of-type {\n",
       "        vertical-align: middle;\n",
       "    }\n",
       "\n",
       "    .dataframe tbody tr th {\n",
       "        vertical-align: top;\n",
       "    }\n",
       "\n",
       "    .dataframe thead th {\n",
       "        text-align: right;\n",
       "    }\n",
       "</style>\n",
       "<table border=\"1\" class=\"dataframe\">\n",
       "  <thead>\n",
       "    <tr style=\"text-align: right;\">\n",
       "      <th></th>\n",
       "      <th>PassengerId</th>\n",
       "      <th>Survived</th>\n",
       "      <th>Pclass</th>\n",
       "      <th>Age</th>\n",
       "      <th>SibSp</th>\n",
       "      <th>Parch</th>\n",
       "      <th>Fare</th>\n",
       "    </tr>\n",
       "  </thead>\n",
       "  <tbody>\n",
       "    <tr>\n",
       "      <th>0</th>\n",
       "      <td>1</td>\n",
       "      <td>0</td>\n",
       "      <td>3</td>\n",
       "      <td>22.0</td>\n",
       "      <td>1</td>\n",
       "      <td>0</td>\n",
       "      <td>7.2500</td>\n",
       "    </tr>\n",
       "    <tr>\n",
       "      <th>1</th>\n",
       "      <td>2</td>\n",
       "      <td>1</td>\n",
       "      <td>1</td>\n",
       "      <td>38.0</td>\n",
       "      <td>1</td>\n",
       "      <td>0</td>\n",
       "      <td>71.2833</td>\n",
       "    </tr>\n",
       "    <tr>\n",
       "      <th>2</th>\n",
       "      <td>3</td>\n",
       "      <td>1</td>\n",
       "      <td>3</td>\n",
       "      <td>26.0</td>\n",
       "      <td>0</td>\n",
       "      <td>0</td>\n",
       "      <td>7.9250</td>\n",
       "    </tr>\n",
       "    <tr>\n",
       "      <th>3</th>\n",
       "      <td>4</td>\n",
       "      <td>1</td>\n",
       "      <td>1</td>\n",
       "      <td>35.0</td>\n",
       "      <td>1</td>\n",
       "      <td>0</td>\n",
       "      <td>53.1000</td>\n",
       "    </tr>\n",
       "    <tr>\n",
       "      <th>4</th>\n",
       "      <td>5</td>\n",
       "      <td>0</td>\n",
       "      <td>3</td>\n",
       "      <td>35.0</td>\n",
       "      <td>0</td>\n",
       "      <td>0</td>\n",
       "      <td>8.0500</td>\n",
       "    </tr>\n",
       "  </tbody>\n",
       "</table>\n",
       "</div>"
      ],
      "text/plain": [
       "   PassengerId  Survived  Pclass   Age  SibSp  Parch     Fare\n",
       "0            1         0       3  22.0      1      0   7.2500\n",
       "1            2         1       1  38.0      1      0  71.2833\n",
       "2            3         1       3  26.0      0      0   7.9250\n",
       "3            4         1       1  35.0      1      0  53.1000\n",
       "4            5         0       3  35.0      0      0   8.0500"
      ]
     },
     "execution_count": 22,
     "metadata": {},
     "output_type": "execute_result"
    }
   ],
   "source": [
    "data.head()"
   ]
  },
  {
   "cell_type": "markdown",
   "id": "09ef0227",
   "metadata": {
    "papermill": {
     "duration": 0.052402,
     "end_time": "2022-09-26T19:53:53.984576",
     "exception": false,
     "start_time": "2022-09-26T19:53:53.932174",
     "status": "completed"
    },
    "tags": []
   },
   "source": [
    "## Train Test Split"
   ]
  },
  {
   "cell_type": "code",
   "execution_count": 23,
   "id": "310feb44",
   "metadata": {
    "execution": {
     "iopub.execute_input": "2022-09-26T19:53:54.096572Z",
     "iopub.status.busy": "2022-09-26T19:53:54.095539Z",
     "iopub.status.idle": "2022-09-26T19:53:54.283220Z",
     "shell.execute_reply": "2022-09-26T19:53:54.282583Z",
     "shell.execute_reply.started": "2022-09-26T19:49:45.067213Z"
    },
    "papermill": {
     "duration": 0.245689,
     "end_time": "2022-09-26T19:53:54.283373",
     "exception": false,
     "start_time": "2022-09-26T19:53:54.037684",
     "status": "completed"
    },
    "tags": []
   },
   "outputs": [],
   "source": [
    "from sklearn.model_selection import train_test_split"
   ]
  },
  {
   "cell_type": "code",
   "execution_count": 24,
   "id": "d86f1236",
   "metadata": {
    "execution": {
     "iopub.execute_input": "2022-09-26T19:53:54.395951Z",
     "iopub.status.busy": "2022-09-26T19:53:54.395301Z",
     "iopub.status.idle": "2022-09-26T19:53:54.397903Z",
     "shell.execute_reply": "2022-09-26T19:53:54.397395Z",
     "shell.execute_reply.started": "2022-09-26T19:49:45.249633Z"
    },
    "papermill": {
     "duration": 0.061899,
     "end_time": "2022-09-26T19:53:54.398077",
     "exception": false,
     "start_time": "2022-09-26T19:53:54.336178",
     "status": "completed"
    },
    "tags": []
   },
   "outputs": [],
   "source": [
    "X = data.drop('Survived', axis=1)\n",
    "y = data['Survived']"
   ]
  },
  {
   "cell_type": "code",
   "execution_count": 25,
   "id": "5fd0a5d8",
   "metadata": {
    "execution": {
     "iopub.execute_input": "2022-09-26T19:53:54.512640Z",
     "iopub.status.busy": "2022-09-26T19:53:54.511571Z",
     "iopub.status.idle": "2022-09-26T19:53:54.513779Z",
     "shell.execute_reply": "2022-09-26T19:53:54.514575Z",
     "shell.execute_reply.started": "2022-09-26T19:49:45.259498Z"
    },
    "papermill": {
     "duration": 0.063539,
     "end_time": "2022-09-26T19:53:54.514760",
     "exception": false,
     "start_time": "2022-09-26T19:53:54.451221",
     "status": "completed"
    },
    "tags": []
   },
   "outputs": [],
   "source": [
    "X_train, X_test, y_train, y_test = train_test_split(X, y, test_size=0.3, random_state=10) "
   ]
  },
  {
   "cell_type": "markdown",
   "id": "928b6bc5",
   "metadata": {
    "papermill": {
     "duration": 0.052529,
     "end_time": "2022-09-26T19:53:54.622295",
     "exception": false,
     "start_time": "2022-09-26T19:53:54.569766",
     "status": "completed"
    },
    "tags": []
   },
   "source": [
    "## Normalizing the Data"
   ]
  },
  {
   "cell_type": "code",
   "execution_count": 26,
   "id": "723a613d",
   "metadata": {
    "execution": {
     "iopub.execute_input": "2022-09-26T19:53:54.732750Z",
     "iopub.status.busy": "2022-09-26T19:53:54.730835Z",
     "iopub.status.idle": "2022-09-26T19:53:54.735147Z",
     "shell.execute_reply": "2022-09-26T19:53:54.735600Z",
     "shell.execute_reply.started": "2022-09-26T19:49:45.271562Z"
    },
    "papermill": {
     "duration": 0.060427,
     "end_time": "2022-09-26T19:53:54.735774",
     "exception": false,
     "start_time": "2022-09-26T19:53:54.675347",
     "status": "completed"
    },
    "tags": []
   },
   "outputs": [],
   "source": [
    "from sklearn.preprocessing import StandardScaler"
   ]
  },
  {
   "cell_type": "code",
   "execution_count": 27,
   "id": "5f776d98",
   "metadata": {
    "execution": {
     "iopub.execute_input": "2022-09-26T19:53:54.847104Z",
     "iopub.status.busy": "2022-09-26T19:53:54.846369Z",
     "iopub.status.idle": "2022-09-26T19:53:54.849347Z",
     "shell.execute_reply": "2022-09-26T19:53:54.849842Z",
     "shell.execute_reply.started": "2022-09-26T19:49:45.277468Z"
    },
    "papermill": {
     "duration": 0.060421,
     "end_time": "2022-09-26T19:53:54.850033",
     "exception": false,
     "start_time": "2022-09-26T19:53:54.789612",
     "status": "completed"
    },
    "tags": []
   },
   "outputs": [],
   "source": [
    "scaler = StandardScaler()"
   ]
  },
  {
   "cell_type": "code",
   "execution_count": 28,
   "id": "dd8fd4cc",
   "metadata": {
    "execution": {
     "iopub.execute_input": "2022-09-26T19:53:54.961215Z",
     "iopub.status.busy": "2022-09-26T19:53:54.960480Z",
     "iopub.status.idle": "2022-09-26T19:53:54.971267Z",
     "shell.execute_reply": "2022-09-26T19:53:54.971760Z",
     "shell.execute_reply.started": "2022-09-26T19:49:45.291519Z"
    },
    "papermill": {
     "duration": 0.067991,
     "end_time": "2022-09-26T19:53:54.971955",
     "exception": false,
     "start_time": "2022-09-26T19:53:54.903964",
     "status": "completed"
    },
    "tags": []
   },
   "outputs": [],
   "source": [
    "X_train = scaler.fit_transform(X_train)\n",
    "X_test = scaler.fit_transform(X_test)"
   ]
  },
  {
   "cell_type": "markdown",
   "id": "7f4c191d",
   "metadata": {
    "papermill": {
     "duration": 0.055181,
     "end_time": "2022-09-26T19:53:55.081332",
     "exception": false,
     "start_time": "2022-09-26T19:53:55.026151",
     "status": "completed"
    },
    "tags": []
   },
   "source": [
    "# Building a Logistic Regression model"
   ]
  },
  {
   "cell_type": "markdown",
   "id": "fc86381b",
   "metadata": {
    "papermill": {
     "duration": 0.052628,
     "end_time": "2022-09-26T19:53:55.188313",
     "exception": false,
     "start_time": "2022-09-26T19:53:55.135685",
     "status": "completed"
    },
    "tags": []
   },
   "source": [
    "## Training and Predicting of Logistic Regression"
   ]
  },
  {
   "cell_type": "code",
   "execution_count": 29,
   "id": "8f5eae71",
   "metadata": {
    "execution": {
     "iopub.execute_input": "2022-09-26T19:53:55.298483Z",
     "iopub.status.busy": "2022-09-26T19:53:55.297797Z",
     "iopub.status.idle": "2022-09-26T19:53:55.384113Z",
     "shell.execute_reply": "2022-09-26T19:53:55.383530Z",
     "shell.execute_reply.started": "2022-09-26T19:49:45.309797Z"
    },
    "papermill": {
     "duration": 0.142549,
     "end_time": "2022-09-26T19:53:55.384288",
     "exception": false,
     "start_time": "2022-09-26T19:53:55.241739",
     "status": "completed"
    },
    "tags": []
   },
   "outputs": [],
   "source": [
    "from sklearn.linear_model import LogisticRegression"
   ]
  },
  {
   "cell_type": "code",
   "execution_count": 30,
   "id": "a45311e3",
   "metadata": {
    "execution": {
     "iopub.execute_input": "2022-09-26T19:53:55.498156Z",
     "iopub.status.busy": "2022-09-26T19:53:55.497485Z",
     "iopub.status.idle": "2022-09-26T19:53:55.500420Z",
     "shell.execute_reply": "2022-09-26T19:53:55.499868Z",
     "shell.execute_reply.started": "2022-09-26T19:49:45.391629Z"
    },
    "papermill": {
     "duration": 0.06329,
     "end_time": "2022-09-26T19:53:55.500569",
     "exception": false,
     "start_time": "2022-09-26T19:53:55.437279",
     "status": "completed"
    },
    "tags": []
   },
   "outputs": [],
   "source": [
    "logreg = LogisticRegression()"
   ]
  },
  {
   "cell_type": "code",
   "execution_count": 31,
   "id": "270a4164",
   "metadata": {
    "execution": {
     "iopub.execute_input": "2022-09-26T19:53:55.612237Z",
     "iopub.status.busy": "2022-09-26T19:53:55.611563Z",
     "iopub.status.idle": "2022-09-26T19:53:55.630793Z",
     "shell.execute_reply": "2022-09-26T19:53:55.630240Z",
     "shell.execute_reply.started": "2022-09-26T19:49:45.397453Z"
    },
    "papermill": {
     "duration": 0.077554,
     "end_time": "2022-09-26T19:53:55.630953",
     "exception": false,
     "start_time": "2022-09-26T19:53:55.553399",
     "status": "completed"
    },
    "tags": []
   },
   "outputs": [
    {
     "data": {
      "text/plain": [
       "LogisticRegression()"
      ]
     },
     "execution_count": 31,
     "metadata": {},
     "output_type": "execute_result"
    }
   ],
   "source": [
    "logreg.fit(X_train, y_train)"
   ]
  },
  {
   "cell_type": "code",
   "execution_count": 32,
   "id": "56f9b7c2",
   "metadata": {
    "execution": {
     "iopub.execute_input": "2022-09-26T19:53:55.744343Z",
     "iopub.status.busy": "2022-09-26T19:53:55.743643Z",
     "iopub.status.idle": "2022-09-26T19:53:55.748151Z",
     "shell.execute_reply": "2022-09-26T19:53:55.748724Z",
     "shell.execute_reply.started": "2022-09-26T19:49:45.420683Z"
    },
    "papermill": {
     "duration": 0.065052,
     "end_time": "2022-09-26T19:53:55.748897",
     "exception": false,
     "start_time": "2022-09-26T19:53:55.683845",
     "status": "completed"
    },
    "tags": []
   },
   "outputs": [],
   "source": [
    "prediction = logreg.predict(X_test)"
   ]
  },
  {
   "cell_type": "markdown",
   "id": "890d911b",
   "metadata": {
    "papermill": {
     "duration": 0.053633,
     "end_time": "2022-09-26T19:53:55.856171",
     "exception": false,
     "start_time": "2022-09-26T19:53:55.802538",
     "status": "completed"
    },
    "tags": []
   },
   "source": [
    "## Evaluation "
   ]
  },
  {
   "cell_type": "code",
   "execution_count": 33,
   "id": "297aa0e4",
   "metadata": {
    "execution": {
     "iopub.execute_input": "2022-09-26T19:53:55.967584Z",
     "iopub.status.busy": "2022-09-26T19:53:55.966683Z",
     "iopub.status.idle": "2022-09-26T19:53:55.971746Z",
     "shell.execute_reply": "2022-09-26T19:53:55.971240Z",
     "shell.execute_reply.started": "2022-09-26T19:49:45.427053Z"
    },
    "papermill": {
     "duration": 0.062648,
     "end_time": "2022-09-26T19:53:55.971892",
     "exception": false,
     "start_time": "2022-09-26T19:53:55.909244",
     "status": "completed"
    },
    "tags": []
   },
   "outputs": [],
   "source": [
    "from sklearn.metrics import classification_report, confusion_matrix, accuracy_score"
   ]
  },
  {
   "cell_type": "code",
   "execution_count": 34,
   "id": "a9df1d09",
   "metadata": {
    "execution": {
     "iopub.execute_input": "2022-09-26T19:53:56.086319Z",
     "iopub.status.busy": "2022-09-26T19:53:56.085620Z",
     "iopub.status.idle": "2022-09-26T19:53:56.091108Z",
     "shell.execute_reply": "2022-09-26T19:53:56.090553Z",
     "shell.execute_reply.started": "2022-09-26T19:49:45.437713Z"
    },
    "papermill": {
     "duration": 0.065773,
     "end_time": "2022-09-26T19:53:56.091259",
     "exception": false,
     "start_time": "2022-09-26T19:53:56.025486",
     "status": "completed"
    },
    "tags": []
   },
   "outputs": [
    {
     "name": "stdout",
     "output_type": "stream",
     "text": [
      "Accuracy Score:\n",
      "\n",
      "0.700374531835206\n"
     ]
    }
   ],
   "source": [
    "print('Accuracy Score:\\n')\n",
    "print(accuracy_score(y_test, prediction))"
   ]
  },
  {
   "cell_type": "code",
   "execution_count": 35,
   "id": "8e8c55fb",
   "metadata": {
    "execution": {
     "iopub.execute_input": "2022-09-26T19:53:56.203763Z",
     "iopub.status.busy": "2022-09-26T19:53:56.203043Z",
     "iopub.status.idle": "2022-09-26T19:53:56.212416Z",
     "shell.execute_reply": "2022-09-26T19:53:56.212960Z",
     "shell.execute_reply.started": "2022-09-26T19:49:45.449692Z"
    },
    "papermill": {
     "duration": 0.066871,
     "end_time": "2022-09-26T19:53:56.213151",
     "exception": false,
     "start_time": "2022-09-26T19:53:56.146280",
     "status": "completed"
    },
    "tags": []
   },
   "outputs": [
    {
     "name": "stdout",
     "output_type": "stream",
     "text": [
      "Confusion Matrix:\n",
      "\n",
      "[[145  24]\n",
      " [ 56  42]]\n"
     ]
    }
   ],
   "source": [
    "print('Confusion Matrix:\\n')\n",
    "print(confusion_matrix(y_test, prediction))"
   ]
  },
  {
   "cell_type": "code",
   "execution_count": 36,
   "id": "7586762b",
   "metadata": {
    "execution": {
     "iopub.execute_input": "2022-09-26T19:53:56.326273Z",
     "iopub.status.busy": "2022-09-26T19:53:56.325283Z",
     "iopub.status.idle": "2022-09-26T19:53:56.334812Z",
     "shell.execute_reply": "2022-09-26T19:53:56.335287Z",
     "shell.execute_reply.started": "2022-09-26T19:49:45.462864Z"
    },
    "papermill": {
     "duration": 0.067813,
     "end_time": "2022-09-26T19:53:56.335466",
     "exception": false,
     "start_time": "2022-09-26T19:53:56.267653",
     "status": "completed"
    },
    "tags": []
   },
   "outputs": [
    {
     "name": "stdout",
     "output_type": "stream",
     "text": [
      "Classifition Report:\n",
      "\n",
      "              precision    recall  f1-score   support\n",
      "\n",
      "           0       0.72      0.86      0.78       169\n",
      "           1       0.64      0.43      0.51        98\n",
      "\n",
      "    accuracy                           0.70       267\n",
      "   macro avg       0.68      0.64      0.65       267\n",
      "weighted avg       0.69      0.70      0.68       267\n",
      "\n"
     ]
    }
   ],
   "source": [
    "print('Classifition Report:\\n')\n",
    "print(classification_report(y_test, prediction))"
   ]
  },
  {
   "cell_type": "code",
   "execution_count": 37,
   "id": "2b3ff43f",
   "metadata": {
    "execution": {
     "iopub.execute_input": "2022-09-26T19:53:56.450218Z",
     "iopub.status.busy": "2022-09-26T19:53:56.449518Z",
     "iopub.status.idle": "2022-09-26T19:53:57.427350Z",
     "shell.execute_reply": "2022-09-26T19:53:57.427855Z",
     "shell.execute_reply.started": "2022-09-26T19:49:45.475998Z"
    },
    "papermill": {
     "duration": 1.038417,
     "end_time": "2022-09-26T19:53:57.428132",
     "exception": false,
     "start_time": "2022-09-26T19:53:56.389715",
     "status": "completed"
    },
    "tags": []
   },
   "outputs": [],
   "source": [
    "from sklearn.ensemble import RandomForestClassifier\n",
    "rfc = RandomForestClassifier(n_estimators=400)\n",
    "rfc.fit(X_train, y_train)\n",
    "rfc_pred = rfc.predict(X_test)\n"
   ]
  },
  {
   "cell_type": "code",
   "execution_count": 38,
   "id": "aea5ce4e",
   "metadata": {
    "execution": {
     "iopub.execute_input": "2022-09-26T19:53:57.561474Z",
     "iopub.status.busy": "2022-09-26T19:53:57.560788Z",
     "iopub.status.idle": "2022-09-26T19:53:57.569490Z",
     "shell.execute_reply": "2022-09-26T19:53:57.570389Z",
     "shell.execute_reply.started": "2022-09-26T19:49:46.475961Z"
    },
    "papermill": {
     "duration": 0.084874,
     "end_time": "2022-09-26T19:53:57.570667",
     "exception": false,
     "start_time": "2022-09-26T19:53:57.485793",
     "status": "completed"
    },
    "tags": []
   },
   "outputs": [
    {
     "name": "stdout",
     "output_type": "stream",
     "text": [
      "Accuracy Score:\n",
      "\n",
      "0.7340823970037453\n"
     ]
    }
   ],
   "source": [
    "print('Accuracy Score:\\n')\n",
    "print(accuracy_score(y_test, rfc_pred))"
   ]
  },
  {
   "cell_type": "markdown",
   "id": "cf065dd7",
   "metadata": {
    "papermill": {
     "duration": 0.054942,
     "end_time": "2022-09-26T19:53:57.698745",
     "exception": false,
     "start_time": "2022-09-26T19:53:57.643803",
     "status": "completed"
    },
    "tags": []
   },
   "source": [
    "# Creating ANN model"
   ]
  },
  {
   "cell_type": "code",
   "execution_count": 39,
   "id": "85d29011",
   "metadata": {
    "execution": {
     "iopub.execute_input": "2022-09-26T19:53:57.814370Z",
     "iopub.status.busy": "2022-09-26T19:53:57.813670Z",
     "iopub.status.idle": "2022-09-26T19:54:04.429311Z",
     "shell.execute_reply": "2022-09-26T19:54:04.428731Z",
     "shell.execute_reply.started": "2022-09-26T19:49:46.483127Z"
    },
    "papermill": {
     "duration": 6.676282,
     "end_time": "2022-09-26T19:54:04.429465",
     "exception": false,
     "start_time": "2022-09-26T19:53:57.753183",
     "status": "completed"
    },
    "tags": []
   },
   "outputs": [
    {
     "name": "stderr",
     "output_type": "stream",
     "text": [
      "2022-09-26 19:53:58.729304: W tensorflow/stream_executor/platform/default/dso_loader.cc:60] Could not load dynamic library 'libcudart.so.11.0'; dlerror: libcudart.so.11.0: cannot open shared object file: No such file or directory; LD_LIBRARY_PATH: /opt/conda/lib\n",
      "2022-09-26 19:53:58.729456: I tensorflow/stream_executor/cuda/cudart_stub.cc:29] Ignore above cudart dlerror if you do not have a GPU set up on your machine.\n"
     ]
    }
   ],
   "source": [
    "import tensorflow as tf\n",
    "from tensorflow.keras.models import Sequential\n",
    "from tensorflow.keras.layers import Dense, Activation, Dropout\n",
    "from tensorflow.keras.constraints import max_norm"
   ]
  },
  {
   "cell_type": "code",
   "execution_count": 40,
   "id": "de87b20d",
   "metadata": {
    "execution": {
     "iopub.execute_input": "2022-09-26T19:54:04.549270Z",
     "iopub.status.busy": "2022-09-26T19:54:04.548594Z",
     "iopub.status.idle": "2022-09-26T19:54:04.596655Z",
     "shell.execute_reply": "2022-09-26T19:54:04.596082Z",
     "shell.execute_reply.started": "2022-09-26T19:49:52.754587Z"
    },
    "papermill": {
     "duration": 0.111758,
     "end_time": "2022-09-26T19:54:04.596797",
     "exception": false,
     "start_time": "2022-09-26T19:54:04.485039",
     "status": "completed"
    },
    "tags": []
   },
   "outputs": [
    {
     "name": "stderr",
     "output_type": "stream",
     "text": [
      "2022-09-26 19:54:04.563641: I tensorflow/compiler/jit/xla_cpu_device.cc:41] Not creating XLA devices, tf_xla_enable_xla_devices not set\n",
      "2022-09-26 19:54:04.567277: W tensorflow/stream_executor/platform/default/dso_loader.cc:60] Could not load dynamic library 'libcuda.so.1'; dlerror: libcuda.so.1: cannot open shared object file: No such file or directory; LD_LIBRARY_PATH: /opt/conda/lib\n",
      "2022-09-26 19:54:04.567313: W tensorflow/stream_executor/cuda/cuda_driver.cc:326] failed call to cuInit: UNKNOWN ERROR (303)\n",
      "2022-09-26 19:54:04.567341: I tensorflow/stream_executor/cuda/cuda_diagnostics.cc:156] kernel driver does not appear to be running on this host (7418217c54b0): /proc/driver/nvidia/version does not exist\n",
      "2022-09-26 19:54:04.567692: I tensorflow/core/platform/cpu_feature_guard.cc:142] This TensorFlow binary is optimized with oneAPI Deep Neural Network Library (oneDNN) to use the following CPU instructions in performance-critical operations:  AVX2 FMA\n",
      "To enable them in other operations, rebuild TensorFlow with the appropriate compiler flags.\n",
      "2022-09-26 19:54:04.568177: I tensorflow/compiler/jit/xla_gpu_device.cc:99] Not creating XLA devices, tf_xla_enable_xla_devices not set\n"
     ]
    }
   ],
   "source": [
    "model = Sequential()"
   ]
  },
  {
   "cell_type": "code",
   "execution_count": 41,
   "id": "945d7fcc",
   "metadata": {
    "execution": {
     "iopub.execute_input": "2022-09-26T19:54:04.712277Z",
     "iopub.status.busy": "2022-09-26T19:54:04.711612Z",
     "iopub.status.idle": "2022-09-26T19:54:04.753658Z",
     "shell.execute_reply": "2022-09-26T19:54:04.752972Z",
     "shell.execute_reply.started": "2022-09-26T19:49:52.807056Z"
    },
    "papermill": {
     "duration": 0.100375,
     "end_time": "2022-09-26T19:54:04.753821",
     "exception": false,
     "start_time": "2022-09-26T19:54:04.653446",
     "status": "completed"
    },
    "tags": []
   },
   "outputs": [],
   "source": [
    "#input layer\n",
    "model.add(Dense(50, activation='relu'))\n",
    "model.add(Dropout(0.2))\n",
    "#1st hidden layer\n",
    "model.add(Dense(200, activation='relu'))\n",
    "model.add(Dropout(0.5))\n",
    "#2nd hidden layer\n",
    "model.add(Dense(200, activation='relu'))\n",
    "model.add(Dropout(0.5))\n",
    "#3rd hidden layer\n",
    "model.add(Dense(200, activation='relu'))\n",
    "model.add(Dropout(0.5))\n",
    "#4th hidden layer\n",
    "model.add(Dense(200, activation='relu'))\n",
    "model.add(Dropout(0.5))\n",
    "#5th hidden layer\n",
    "model.add(Dense(200, activation='relu'))\n",
    "model.add(Dropout(0.5))\n",
    "\n",
    "#output layer\n",
    "model.add(Dense(units=1,activation='sigmoid'))\n",
    "#complier model\n",
    "model.compile(loss='binary_crossentropy', optimizer='adam')"
   ]
  },
  {
   "cell_type": "code",
   "execution_count": 42,
   "id": "9aecec27",
   "metadata": {
    "execution": {
     "iopub.execute_input": "2022-09-26T19:54:04.871240Z",
     "iopub.status.busy": "2022-09-26T19:54:04.870551Z",
     "iopub.status.idle": "2022-09-26T19:54:25.062554Z",
     "shell.execute_reply": "2022-09-26T19:54:25.063104Z",
     "shell.execute_reply.started": "2022-09-26T19:49:52.853047Z"
    },
    "papermill": {
     "duration": 20.253264,
     "end_time": "2022-09-26T19:54:25.063322",
     "exception": false,
     "start_time": "2022-09-26T19:54:04.810058",
     "status": "completed"
    },
    "tags": []
   },
   "outputs": [
    {
     "name": "stderr",
     "output_type": "stream",
     "text": [
      "2022-09-26 19:54:04.959566: I tensorflow/compiler/mlir/mlir_graph_optimization_pass.cc:116] None of the MLIR optimization passes are enabled (registered 2)\n",
      "2022-09-26 19:54:04.976331: I tensorflow/core/platform/profile_utils/cpu_utils.cc:112] CPU Frequency: 2199995000 Hz\n"
     ]
    },
    {
     "name": "stdout",
     "output_type": "stream",
     "text": [
      "Epoch 1/200\n",
      "3/3 [==============================] - 2s 323ms/step - loss: 0.7180 - val_loss: 0.6838\n",
      "Epoch 2/200\n",
      "3/3 [==============================] - 0s 38ms/step - loss: 0.6884 - val_loss: 0.6788\n",
      "Epoch 3/200\n",
      "3/3 [==============================] - 0s 35ms/step - loss: 0.6922 - val_loss: 0.6741\n",
      "Epoch 4/200\n",
      "3/3 [==============================] - 0s 36ms/step - loss: 0.6860 - val_loss: 0.6706\n",
      "Epoch 5/200\n",
      "3/3 [==============================] - 0s 36ms/step - loss: 0.6862 - val_loss: 0.6686\n",
      "Epoch 6/200\n",
      "3/3 [==============================] - 0s 35ms/step - loss: 0.6802 - val_loss: 0.6678\n",
      "Epoch 7/200\n",
      "3/3 [==============================] - 0s 37ms/step - loss: 0.6725 - val_loss: 0.6655\n",
      "Epoch 8/200\n",
      "3/3 [==============================] - 0s 37ms/step - loss: 0.6764 - val_loss: 0.6613\n",
      "Epoch 9/200\n",
      "3/3 [==============================] - 0s 35ms/step - loss: 0.6727 - val_loss: 0.6555\n",
      "Epoch 10/200\n",
      "3/3 [==============================] - 0s 38ms/step - loss: 0.6714 - val_loss: 0.6499\n",
      "Epoch 11/200\n",
      "3/3 [==============================] - 0s 36ms/step - loss: 0.6562 - val_loss: 0.6426\n",
      "Epoch 12/200\n",
      "3/3 [==============================] - 0s 40ms/step - loss: 0.6566 - val_loss: 0.6335\n",
      "Epoch 13/200\n",
      "3/3 [==============================] - 0s 36ms/step - loss: 0.6438 - val_loss: 0.6230\n",
      "Epoch 14/200\n",
      "3/3 [==============================] - 0s 37ms/step - loss: 0.6707 - val_loss: 0.6143\n",
      "Epoch 15/200\n",
      "3/3 [==============================] - 0s 37ms/step - loss: 0.6461 - val_loss: 0.6065\n",
      "Epoch 16/200\n",
      "3/3 [==============================] - 0s 37ms/step - loss: 0.6356 - val_loss: 0.6000\n",
      "Epoch 17/200\n",
      "3/3 [==============================] - 0s 36ms/step - loss: 0.6427 - val_loss: 0.5958\n",
      "Epoch 18/200\n",
      "3/3 [==============================] - 0s 38ms/step - loss: 0.6261 - val_loss: 0.5902\n",
      "Epoch 19/200\n",
      "3/3 [==============================] - 0s 38ms/step - loss: 0.6216 - val_loss: 0.5857\n",
      "Epoch 20/200\n",
      "3/3 [==============================] - 0s 36ms/step - loss: 0.6192 - val_loss: 0.5835\n",
      "Epoch 21/200\n",
      "3/3 [==============================] - 0s 36ms/step - loss: 0.6056 - val_loss: 0.5809\n",
      "Epoch 22/200\n",
      "3/3 [==============================] - 0s 37ms/step - loss: 0.5971 - val_loss: 0.5794\n",
      "Epoch 23/200\n",
      "3/3 [==============================] - 0s 46ms/step - loss: 0.5942 - val_loss: 0.5789\n",
      "Epoch 24/200\n",
      "3/3 [==============================] - 0s 41ms/step - loss: 0.5963 - val_loss: 0.5779\n",
      "Epoch 25/200\n",
      "3/3 [==============================] - 0s 38ms/step - loss: 0.6113 - val_loss: 0.5757\n",
      "Epoch 26/200\n",
      "3/3 [==============================] - 0s 39ms/step - loss: 0.6115 - val_loss: 0.5736\n",
      "Epoch 27/200\n",
      "3/3 [==============================] - 0s 37ms/step - loss: 0.6146 - val_loss: 0.5728\n",
      "Epoch 28/200\n",
      "3/3 [==============================] - 0s 37ms/step - loss: 0.6076 - val_loss: 0.5730\n",
      "Epoch 29/200\n",
      "3/3 [==============================] - 0s 37ms/step - loss: 0.5908 - val_loss: 0.5715\n",
      "Epoch 30/200\n",
      "3/3 [==============================] - 0s 36ms/step - loss: 0.5948 - val_loss: 0.5671\n",
      "Epoch 31/200\n",
      "3/3 [==============================] - 0s 39ms/step - loss: 0.6212 - val_loss: 0.5651\n",
      "Epoch 32/200\n",
      "3/3 [==============================] - 0s 37ms/step - loss: 0.5789 - val_loss: 0.5633\n",
      "Epoch 33/200\n",
      "3/3 [==============================] - 0s 43ms/step - loss: 0.6026 - val_loss: 0.5632\n",
      "Epoch 34/200\n",
      "3/3 [==============================] - 0s 44ms/step - loss: 0.5775 - val_loss: 0.5635\n",
      "Epoch 35/200\n",
      "3/3 [==============================] - 0s 47ms/step - loss: 0.5804 - val_loss: 0.5634\n",
      "Epoch 36/200\n",
      "3/3 [==============================] - 0s 44ms/step - loss: 0.5874 - val_loss: 0.5633\n",
      "Epoch 37/200\n",
      "3/3 [==============================] - 0s 39ms/step - loss: 0.5761 - val_loss: 0.5627\n",
      "Epoch 38/200\n",
      "3/3 [==============================] - 0s 39ms/step - loss: 0.5964 - val_loss: 0.5635\n",
      "Epoch 39/200\n",
      "3/3 [==============================] - 0s 39ms/step - loss: 0.5850 - val_loss: 0.5649\n",
      "Epoch 40/200\n",
      "3/3 [==============================] - 0s 41ms/step - loss: 0.5777 - val_loss: 0.5651\n",
      "Epoch 41/200\n",
      "3/3 [==============================] - 0s 39ms/step - loss: 0.5759 - val_loss: 0.5644\n",
      "Epoch 42/200\n",
      "3/3 [==============================] - 0s 38ms/step - loss: 0.5762 - val_loss: 0.5629\n",
      "Epoch 43/200\n",
      "3/3 [==============================] - 0s 38ms/step - loss: 0.5763 - val_loss: 0.5606\n",
      "Epoch 44/200\n",
      "3/3 [==============================] - 0s 38ms/step - loss: 0.5645 - val_loss: 0.5607\n",
      "Epoch 45/200\n",
      "3/3 [==============================] - 0s 37ms/step - loss: 0.5539 - val_loss: 0.5605\n",
      "Epoch 46/200\n",
      "3/3 [==============================] - 0s 38ms/step - loss: 0.5870 - val_loss: 0.5612\n",
      "Epoch 47/200\n",
      "3/3 [==============================] - 0s 38ms/step - loss: 0.5699 - val_loss: 0.5618\n",
      "Epoch 48/200\n",
      "3/3 [==============================] - 0s 38ms/step - loss: 0.5600 - val_loss: 0.5619\n",
      "Epoch 49/200\n",
      "3/3 [==============================] - 0s 38ms/step - loss: 0.5780 - val_loss: 0.5627\n",
      "Epoch 50/200\n",
      "3/3 [==============================] - 0s 35ms/step - loss: 0.5510 - val_loss: 0.5615\n",
      "Epoch 51/200\n",
      "3/3 [==============================] - 0s 38ms/step - loss: 0.5541 - val_loss: 0.5623\n",
      "Epoch 52/200\n",
      "3/3 [==============================] - 0s 37ms/step - loss: 0.5837 - val_loss: 0.5618\n",
      "Epoch 53/200\n",
      "3/3 [==============================] - 0s 37ms/step - loss: 0.5582 - val_loss: 0.5589\n",
      "Epoch 54/200\n",
      "3/3 [==============================] - 0s 37ms/step - loss: 0.5904 - val_loss: 0.5581\n",
      "Epoch 55/200\n",
      "3/3 [==============================] - 0s 38ms/step - loss: 0.5704 - val_loss: 0.5581\n",
      "Epoch 56/200\n",
      "3/3 [==============================] - 0s 37ms/step - loss: 0.5464 - val_loss: 0.5591\n",
      "Epoch 57/200\n",
      "3/3 [==============================] - 0s 38ms/step - loss: 0.5607 - val_loss: 0.5611\n",
      "Epoch 58/200\n",
      "3/3 [==============================] - 0s 36ms/step - loss: 0.5622 - val_loss: 0.5623\n",
      "Epoch 59/200\n",
      "3/3 [==============================] - 0s 39ms/step - loss: 0.5611 - val_loss: 0.5637\n",
      "Epoch 60/200\n",
      "3/3 [==============================] - 0s 35ms/step - loss: 0.5617 - val_loss: 0.5619\n",
      "Epoch 61/200\n",
      "3/3 [==============================] - 0s 35ms/step - loss: 0.5677 - val_loss: 0.5590\n",
      "Epoch 62/200\n",
      "3/3 [==============================] - 0s 37ms/step - loss: 0.5717 - val_loss: 0.5579\n",
      "Epoch 63/200\n",
      "3/3 [==============================] - 0s 38ms/step - loss: 0.5598 - val_loss: 0.5576\n",
      "Epoch 64/200\n",
      "3/3 [==============================] - 0s 38ms/step - loss: 0.5669 - val_loss: 0.5593\n",
      "Epoch 65/200\n",
      "3/3 [==============================] - 0s 36ms/step - loss: 0.5794 - val_loss: 0.5630\n",
      "Epoch 66/200\n",
      "3/3 [==============================] - 0s 38ms/step - loss: 0.5539 - val_loss: 0.5656\n",
      "Epoch 67/200\n",
      "3/3 [==============================] - 0s 37ms/step - loss: 0.5645 - val_loss: 0.5672\n",
      "Epoch 68/200\n",
      "3/3 [==============================] - 0s 37ms/step - loss: 0.5632 - val_loss: 0.5663\n",
      "Epoch 69/200\n",
      "3/3 [==============================] - 0s 36ms/step - loss: 0.5562 - val_loss: 0.5646\n",
      "Epoch 70/200\n",
      "3/3 [==============================] - 0s 37ms/step - loss: 0.5544 - val_loss: 0.5632\n",
      "Epoch 71/200\n",
      "3/3 [==============================] - 0s 36ms/step - loss: 0.5653 - val_loss: 0.5631\n",
      "Epoch 72/200\n",
      "3/3 [==============================] - 0s 37ms/step - loss: 0.5466 - val_loss: 0.5636\n",
      "Epoch 73/200\n",
      "3/3 [==============================] - 0s 36ms/step - loss: 0.5683 - val_loss: 0.5638\n",
      "Epoch 74/200\n",
      "3/3 [==============================] - 0s 36ms/step - loss: 0.5514 - val_loss: 0.5649\n",
      "Epoch 75/200\n",
      "3/3 [==============================] - 0s 36ms/step - loss: 0.5589 - val_loss: 0.5666\n",
      "Epoch 76/200\n",
      "3/3 [==============================] - 0s 36ms/step - loss: 0.5411 - val_loss: 0.5660\n",
      "Epoch 77/200\n",
      "3/3 [==============================] - 0s 38ms/step - loss: 0.5581 - val_loss: 0.5650\n",
      "Epoch 78/200\n",
      "3/3 [==============================] - 0s 37ms/step - loss: 0.5451 - val_loss: 0.5643\n",
      "Epoch 79/200\n",
      "3/3 [==============================] - 0s 39ms/step - loss: 0.5536 - val_loss: 0.5649\n",
      "Epoch 80/200\n",
      "3/3 [==============================] - 0s 37ms/step - loss: 0.5312 - val_loss: 0.5663\n",
      "Epoch 81/200\n",
      "3/3 [==============================] - 0s 37ms/step - loss: 0.5335 - val_loss: 0.5659\n",
      "Epoch 82/200\n",
      "3/3 [==============================] - 0s 38ms/step - loss: 0.5604 - val_loss: 0.5654\n",
      "Epoch 83/200\n",
      "3/3 [==============================] - 0s 37ms/step - loss: 0.5530 - val_loss: 0.5622\n",
      "Epoch 84/200\n",
      "3/3 [==============================] - 0s 37ms/step - loss: 0.5600 - val_loss: 0.5616\n",
      "Epoch 85/200\n",
      "3/3 [==============================] - 0s 37ms/step - loss: 0.5405 - val_loss: 0.5605\n",
      "Epoch 86/200\n",
      "3/3 [==============================] - 0s 38ms/step - loss: 0.5391 - val_loss: 0.5601\n",
      "Epoch 87/200\n",
      "3/3 [==============================] - 0s 37ms/step - loss: 0.5702 - val_loss: 0.5629\n",
      "Epoch 88/200\n",
      "3/3 [==============================] - 0s 36ms/step - loss: 0.5430 - val_loss: 0.5642\n",
      "Epoch 89/200\n",
      "3/3 [==============================] - 0s 36ms/step - loss: 0.5431 - val_loss: 0.5680\n",
      "Epoch 90/200\n",
      "3/3 [==============================] - 0s 39ms/step - loss: 0.5440 - val_loss: 0.5650\n",
      "Epoch 91/200\n",
      "3/3 [==============================] - 0s 37ms/step - loss: 0.5654 - val_loss: 0.5616\n",
      "Epoch 92/200\n",
      "3/3 [==============================] - 0s 35ms/step - loss: 0.5528 - val_loss: 0.5590\n",
      "Epoch 93/200\n",
      "3/3 [==============================] - 0s 35ms/step - loss: 0.5298 - val_loss: 0.5597\n",
      "Epoch 94/200\n",
      "3/3 [==============================] - 0s 37ms/step - loss: 0.5578 - val_loss: 0.5635\n",
      "Epoch 95/200\n",
      "3/3 [==============================] - 0s 37ms/step - loss: 0.5426 - val_loss: 0.5676\n",
      "Epoch 96/200\n",
      "3/3 [==============================] - 0s 37ms/step - loss: 0.5355 - val_loss: 0.5701\n",
      "Epoch 97/200\n",
      "3/3 [==============================] - 0s 37ms/step - loss: 0.5417 - val_loss: 0.5697\n",
      "Epoch 98/200\n",
      "3/3 [==============================] - 0s 37ms/step - loss: 0.5672 - val_loss: 0.5690\n",
      "Epoch 99/200\n",
      "3/3 [==============================] - 0s 37ms/step - loss: 0.5595 - val_loss: 0.5676\n",
      "Epoch 100/200\n",
      "3/3 [==============================] - 0s 36ms/step - loss: 0.5604 - val_loss: 0.5653\n",
      "Epoch 101/200\n",
      "3/3 [==============================] - 0s 38ms/step - loss: 0.5113 - val_loss: 0.5637\n",
      "Epoch 102/200\n",
      "3/3 [==============================] - 0s 37ms/step - loss: 0.5300 - val_loss: 0.5622\n",
      "Epoch 103/200\n",
      "3/3 [==============================] - 0s 36ms/step - loss: 0.5263 - val_loss: 0.5604\n",
      "Epoch 104/200\n",
      "3/3 [==============================] - 0s 39ms/step - loss: 0.5529 - val_loss: 0.5624\n",
      "Epoch 105/200\n",
      "3/3 [==============================] - 0s 38ms/step - loss: 0.5220 - val_loss: 0.5616\n",
      "Epoch 106/200\n",
      "3/3 [==============================] - 0s 39ms/step - loss: 0.5230 - val_loss: 0.5619\n",
      "Epoch 107/200\n",
      "3/3 [==============================] - 0s 37ms/step - loss: 0.5309 - val_loss: 0.5633\n",
      "Epoch 108/200\n",
      "3/3 [==============================] - 0s 36ms/step - loss: 0.5283 - val_loss: 0.5652\n",
      "Epoch 109/200\n",
      "3/3 [==============================] - 0s 35ms/step - loss: 0.5266 - val_loss: 0.5666\n",
      "Epoch 110/200\n",
      "3/3 [==============================] - 0s 35ms/step - loss: 0.5365 - val_loss: 0.5672\n",
      "Epoch 111/200\n",
      "3/3 [==============================] - 0s 37ms/step - loss: 0.5210 - val_loss: 0.5660\n",
      "Epoch 112/200\n",
      "3/3 [==============================] - 0s 36ms/step - loss: 0.5304 - val_loss: 0.5639\n",
      "Epoch 113/200\n",
      "3/3 [==============================] - 0s 36ms/step - loss: 0.5526 - val_loss: 0.5613\n",
      "Epoch 114/200\n",
      "3/3 [==============================] - 0s 35ms/step - loss: 0.5377 - val_loss: 0.5593\n",
      "Epoch 115/200\n",
      "3/3 [==============================] - 0s 36ms/step - loss: 0.5325 - val_loss: 0.5574\n",
      "Epoch 116/200\n",
      "3/3 [==============================] - 0s 36ms/step - loss: 0.5319 - val_loss: 0.5577\n",
      "Epoch 117/200\n",
      "3/3 [==============================] - 0s 40ms/step - loss: 0.5367 - val_loss: 0.5588\n",
      "Epoch 118/200\n",
      "3/3 [==============================] - 0s 40ms/step - loss: 0.5327 - val_loss: 0.5605\n",
      "Epoch 119/200\n",
      "3/3 [==============================] - 0s 40ms/step - loss: 0.5249 - val_loss: 0.5630\n",
      "Epoch 120/200\n",
      "3/3 [==============================] - 0s 40ms/step - loss: 0.5253 - val_loss: 0.5647\n",
      "Epoch 121/200\n",
      "3/3 [==============================] - 0s 42ms/step - loss: 0.5292 - val_loss: 0.5662\n",
      "Epoch 122/200\n",
      "3/3 [==============================] - 0s 44ms/step - loss: 0.5158 - val_loss: 0.5671\n",
      "Epoch 123/200\n",
      "3/3 [==============================] - 0s 55ms/step - loss: 0.5511 - val_loss: 0.5668\n",
      "Epoch 124/200\n",
      "3/3 [==============================] - 0s 47ms/step - loss: 0.5371 - val_loss: 0.5654\n",
      "Epoch 125/200\n",
      "3/3 [==============================] - 0s 42ms/step - loss: 0.5623 - val_loss: 0.5645\n",
      "Epoch 126/200\n",
      "3/3 [==============================] - 0s 43ms/step - loss: 0.5246 - val_loss: 0.5628\n",
      "Epoch 127/200\n",
      "3/3 [==============================] - 0s 43ms/step - loss: 0.5364 - val_loss: 0.5607\n",
      "Epoch 128/200\n",
      "3/3 [==============================] - 0s 42ms/step - loss: 0.5288 - val_loss: 0.5592\n",
      "Epoch 129/200\n",
      "3/3 [==============================] - 0s 41ms/step - loss: 0.5247 - val_loss: 0.5604\n",
      "Epoch 130/200\n",
      "3/3 [==============================] - 0s 40ms/step - loss: 0.5135 - val_loss: 0.5628\n",
      "Epoch 131/200\n",
      "3/3 [==============================] - 0s 40ms/step - loss: 0.5123 - val_loss: 0.5648\n",
      "Epoch 132/200\n",
      "3/3 [==============================] - 0s 39ms/step - loss: 0.5286 - val_loss: 0.5678\n",
      "Epoch 133/200\n",
      "3/3 [==============================] - 0s 41ms/step - loss: 0.5373 - val_loss: 0.5714\n",
      "Epoch 134/200\n",
      "3/3 [==============================] - 0s 39ms/step - loss: 0.5266 - val_loss: 0.5737\n",
      "Epoch 135/200\n",
      "3/3 [==============================] - 0s 39ms/step - loss: 0.5271 - val_loss: 0.5727\n",
      "Epoch 136/200\n",
      "3/3 [==============================] - 0s 41ms/step - loss: 0.5301 - val_loss: 0.5720\n",
      "Epoch 137/200\n",
      "3/3 [==============================] - 0s 39ms/step - loss: 0.5131 - val_loss: 0.5702\n",
      "Epoch 138/200\n",
      "3/3 [==============================] - 0s 41ms/step - loss: 0.5466 - val_loss: 0.5684\n",
      "Epoch 139/200\n",
      "3/3 [==============================] - 0s 41ms/step - loss: 0.5316 - val_loss: 0.5685\n",
      "Epoch 140/200\n",
      "3/3 [==============================] - 0s 40ms/step - loss: 0.5305 - val_loss: 0.5689\n",
      "Epoch 141/200\n",
      "3/3 [==============================] - 0s 40ms/step - loss: 0.5288 - val_loss: 0.5693\n",
      "Epoch 142/200\n",
      "3/3 [==============================] - 0s 40ms/step - loss: 0.5262 - val_loss: 0.5683\n",
      "Epoch 143/200\n",
      "3/3 [==============================] - 0s 41ms/step - loss: 0.5536 - val_loss: 0.5681\n",
      "Epoch 144/200\n",
      "3/3 [==============================] - 0s 56ms/step - loss: 0.5460 - val_loss: 0.5700\n",
      "Epoch 145/200\n",
      "3/3 [==============================] - 0s 44ms/step - loss: 0.5203 - val_loss: 0.5697\n",
      "Epoch 146/200\n",
      "3/3 [==============================] - 0s 44ms/step - loss: 0.5074 - val_loss: 0.5680\n",
      "Epoch 147/200\n",
      "3/3 [==============================] - 0s 41ms/step - loss: 0.5207 - val_loss: 0.5659\n",
      "Epoch 148/200\n",
      "3/3 [==============================] - 0s 40ms/step - loss: 0.5327 - val_loss: 0.5641\n",
      "Epoch 149/200\n",
      "3/3 [==============================] - 0s 40ms/step - loss: 0.5350 - val_loss: 0.5647\n",
      "Epoch 150/200\n",
      "3/3 [==============================] - 0s 40ms/step - loss: 0.5345 - val_loss: 0.5668\n",
      "Epoch 151/200\n",
      "3/3 [==============================] - 0s 41ms/step - loss: 0.5035 - val_loss: 0.5674\n",
      "Epoch 152/200\n",
      "3/3 [==============================] - 0s 40ms/step - loss: 0.5317 - val_loss: 0.5665\n",
      "Epoch 153/200\n",
      "3/3 [==============================] - 0s 39ms/step - loss: 0.5124 - val_loss: 0.5658\n",
      "Epoch 154/200\n",
      "3/3 [==============================] - 0s 40ms/step - loss: 0.5264 - val_loss: 0.5679\n",
      "Epoch 155/200\n",
      "3/3 [==============================] - 0s 41ms/step - loss: 0.5257 - val_loss: 0.5705\n",
      "Epoch 156/200\n",
      "3/3 [==============================] - 0s 40ms/step - loss: 0.5188 - val_loss: 0.5730\n",
      "Epoch 157/200\n",
      "3/3 [==============================] - 0s 39ms/step - loss: 0.5380 - val_loss: 0.5762\n",
      "Epoch 158/200\n",
      "3/3 [==============================] - 0s 39ms/step - loss: 0.5271 - val_loss: 0.5769\n",
      "Epoch 159/200\n",
      "3/3 [==============================] - 0s 39ms/step - loss: 0.5441 - val_loss: 0.5744\n",
      "Epoch 160/200\n",
      "3/3 [==============================] - 0s 39ms/step - loss: 0.5344 - val_loss: 0.5713\n",
      "Epoch 161/200\n",
      "3/3 [==============================] - 0s 39ms/step - loss: 0.4955 - val_loss: 0.5694\n",
      "Epoch 162/200\n",
      "3/3 [==============================] - 0s 41ms/step - loss: 0.5259 - val_loss: 0.5727\n",
      "Epoch 163/200\n",
      "3/3 [==============================] - 0s 40ms/step - loss: 0.5138 - val_loss: 0.5753\n",
      "Epoch 164/200\n",
      "3/3 [==============================] - 0s 40ms/step - loss: 0.5080 - val_loss: 0.5763\n",
      "Epoch 165/200\n",
      "3/3 [==============================] - 0s 38ms/step - loss: 0.5117 - val_loss: 0.5756\n",
      "Epoch 166/200\n",
      "3/3 [==============================] - 0s 41ms/step - loss: 0.5200 - val_loss: 0.5763\n",
      "Epoch 167/200\n",
      "3/3 [==============================] - 0s 39ms/step - loss: 0.5238 - val_loss: 0.5784\n",
      "Epoch 168/200\n",
      "3/3 [==============================] - 0s 40ms/step - loss: 0.5236 - val_loss: 0.5816\n",
      "Epoch 169/200\n",
      "3/3 [==============================] - 0s 40ms/step - loss: 0.5181 - val_loss: 0.5839\n",
      "Epoch 170/200\n",
      "3/3 [==============================] - 0s 39ms/step - loss: 0.5237 - val_loss: 0.5853\n",
      "Epoch 171/200\n",
      "3/3 [==============================] - 0s 39ms/step - loss: 0.5348 - val_loss: 0.5855\n",
      "Epoch 172/200\n",
      "3/3 [==============================] - 0s 41ms/step - loss: 0.5298 - val_loss: 0.5860\n",
      "Epoch 173/200\n",
      "3/3 [==============================] - 0s 42ms/step - loss: 0.5039 - val_loss: 0.5830\n",
      "Epoch 174/200\n",
      "3/3 [==============================] - 0s 40ms/step - loss: 0.5161 - val_loss: 0.5801\n",
      "Epoch 175/200\n",
      "3/3 [==============================] - 0s 40ms/step - loss: 0.5174 - val_loss: 0.5804\n",
      "Epoch 176/200\n",
      "3/3 [==============================] - 0s 40ms/step - loss: 0.5167 - val_loss: 0.5820\n",
      "Epoch 177/200\n",
      "3/3 [==============================] - 0s 39ms/step - loss: 0.5275 - val_loss: 0.5810\n",
      "Epoch 178/200\n",
      "3/3 [==============================] - 0s 42ms/step - loss: 0.5487 - val_loss: 0.5767\n",
      "Epoch 179/200\n",
      "3/3 [==============================] - 0s 42ms/step - loss: 0.5291 - val_loss: 0.5752\n",
      "Epoch 180/200\n",
      "3/3 [==============================] - 0s 41ms/step - loss: 0.5186 - val_loss: 0.5756\n",
      "Epoch 181/200\n",
      "3/3 [==============================] - 0s 40ms/step - loss: 0.5142 - val_loss: 0.5767\n",
      "Epoch 182/200\n",
      "3/3 [==============================] - 0s 40ms/step - loss: 0.5184 - val_loss: 0.5811\n",
      "Epoch 183/200\n",
      "3/3 [==============================] - 0s 41ms/step - loss: 0.5280 - val_loss: 0.5832\n",
      "Epoch 184/200\n",
      "3/3 [==============================] - 0s 39ms/step - loss: 0.5270 - val_loss: 0.5808\n",
      "Epoch 185/200\n",
      "3/3 [==============================] - 0s 45ms/step - loss: 0.5327 - val_loss: 0.5755\n",
      "Epoch 186/200\n",
      "3/3 [==============================] - 0s 41ms/step - loss: 0.5213 - val_loss: 0.5722\n",
      "Epoch 187/200\n",
      "3/3 [==============================] - 0s 46ms/step - loss: 0.5326 - val_loss: 0.5718\n",
      "Epoch 188/200\n",
      "3/3 [==============================] - 0s 45ms/step - loss: 0.5131 - val_loss: 0.5733\n",
      "Epoch 189/200\n",
      "3/3 [==============================] - 0s 42ms/step - loss: 0.5095 - val_loss: 0.5778\n",
      "Epoch 190/200\n",
      "3/3 [==============================] - 0s 43ms/step - loss: 0.5059 - val_loss: 0.5820\n",
      "Epoch 191/200\n",
      "3/3 [==============================] - 0s 41ms/step - loss: 0.5030 - val_loss: 0.5848\n",
      "Epoch 192/200\n",
      "3/3 [==============================] - 0s 42ms/step - loss: 0.5154 - val_loss: 0.5857\n",
      "Epoch 193/200\n",
      "3/3 [==============================] - 0s 43ms/step - loss: 0.5127 - val_loss: 0.5849\n",
      "Epoch 194/200\n",
      "3/3 [==============================] - 0s 40ms/step - loss: 0.5099 - val_loss: 0.5820\n",
      "Epoch 195/200\n",
      "3/3 [==============================] - 0s 43ms/step - loss: 0.5139 - val_loss: 0.5802\n",
      "Epoch 196/200\n",
      "3/3 [==============================] - 0s 44ms/step - loss: 0.5030 - val_loss: 0.5776\n",
      "Epoch 197/200\n",
      "3/3 [==============================] - 0s 41ms/step - loss: 0.5197 - val_loss: 0.5786\n",
      "Epoch 198/200\n",
      "3/3 [==============================] - 0s 43ms/step - loss: 0.5067 - val_loss: 0.5824\n",
      "Epoch 199/200\n",
      "3/3 [==============================] - 0s 40ms/step - loss: 0.5073 - val_loss: 0.5869\n",
      "Epoch 200/200\n",
      "3/3 [==============================] - 0s 42ms/step - loss: 0.4963 - val_loss: 0.5880\n"
     ]
    },
    {
     "data": {
      "text/plain": [
       "<tensorflow.python.keras.callbacks.History at 0x7fd0d9fdd210>"
      ]
     },
     "execution_count": 42,
     "metadata": {},
     "output_type": "execute_result"
    }
   ],
   "source": [
    "model.fit(x=X_train,\n",
    " y=y_train,\n",
    " epochs=200,\n",
    " batch_size=256,\n",
    " validation_data=(X_test, y_test),\n",
    " )"
   ]
  },
  {
   "cell_type": "code",
   "execution_count": 43,
   "id": "0219fb52",
   "metadata": {
    "execution": {
     "iopub.execute_input": "2022-09-26T19:54:25.482666Z",
     "iopub.status.busy": "2022-09-26T19:54:25.481530Z",
     "iopub.status.idle": "2022-09-26T19:54:25.486574Z",
     "shell.execute_reply": "2022-09-26T19:54:25.485994Z",
     "shell.execute_reply.started": "2022-09-26T19:50:11.794812Z"
    },
    "papermill": {
     "duration": 0.217715,
     "end_time": "2022-09-26T19:54:25.486723",
     "exception": false,
     "start_time": "2022-09-26T19:54:25.269008",
     "status": "completed"
    },
    "tags": []
   },
   "outputs": [
    {
     "data": {
      "text/html": [
       "<div>\n",
       "<style scoped>\n",
       "    .dataframe tbody tr th:only-of-type {\n",
       "        vertical-align: middle;\n",
       "    }\n",
       "\n",
       "    .dataframe tbody tr th {\n",
       "        vertical-align: top;\n",
       "    }\n",
       "\n",
       "    .dataframe thead th {\n",
       "        text-align: right;\n",
       "    }\n",
       "</style>\n",
       "<table border=\"1\" class=\"dataframe\">\n",
       "  <thead>\n",
       "    <tr style=\"text-align: right;\">\n",
       "      <th></th>\n",
       "      <th>loss</th>\n",
       "      <th>val_loss</th>\n",
       "    </tr>\n",
       "  </thead>\n",
       "  <tbody>\n",
       "    <tr>\n",
       "      <th>0</th>\n",
       "      <td>0.713877</td>\n",
       "      <td>0.683795</td>\n",
       "    </tr>\n",
       "    <tr>\n",
       "      <th>1</th>\n",
       "      <td>0.684749</td>\n",
       "      <td>0.678840</td>\n",
       "    </tr>\n",
       "    <tr>\n",
       "      <th>2</th>\n",
       "      <td>0.688538</td>\n",
       "      <td>0.674146</td>\n",
       "    </tr>\n",
       "    <tr>\n",
       "      <th>3</th>\n",
       "      <td>0.685892</td>\n",
       "      <td>0.670623</td>\n",
       "    </tr>\n",
       "    <tr>\n",
       "      <th>4</th>\n",
       "      <td>0.694602</td>\n",
       "      <td>0.668640</td>\n",
       "    </tr>\n",
       "    <tr>\n",
       "      <th>...</th>\n",
       "      <td>...</td>\n",
       "      <td>...</td>\n",
       "    </tr>\n",
       "    <tr>\n",
       "      <th>195</th>\n",
       "      <td>0.507614</td>\n",
       "      <td>0.577645</td>\n",
       "    </tr>\n",
       "    <tr>\n",
       "      <th>196</th>\n",
       "      <td>0.516640</td>\n",
       "      <td>0.578647</td>\n",
       "    </tr>\n",
       "    <tr>\n",
       "      <th>197</th>\n",
       "      <td>0.510391</td>\n",
       "      <td>0.582406</td>\n",
       "    </tr>\n",
       "    <tr>\n",
       "      <th>198</th>\n",
       "      <td>0.508359</td>\n",
       "      <td>0.586936</td>\n",
       "    </tr>\n",
       "    <tr>\n",
       "      <th>199</th>\n",
       "      <td>0.505415</td>\n",
       "      <td>0.588038</td>\n",
       "    </tr>\n",
       "  </tbody>\n",
       "</table>\n",
       "<p>200 rows × 2 columns</p>\n",
       "</div>"
      ],
      "text/plain": [
       "         loss  val_loss\n",
       "0    0.713877  0.683795\n",
       "1    0.684749  0.678840\n",
       "2    0.688538  0.674146\n",
       "3    0.685892  0.670623\n",
       "4    0.694602  0.668640\n",
       "..        ...       ...\n",
       "195  0.507614  0.577645\n",
       "196  0.516640  0.578647\n",
       "197  0.510391  0.582406\n",
       "198  0.508359  0.586936\n",
       "199  0.505415  0.588038\n",
       "\n",
       "[200 rows x 2 columns]"
      ]
     },
     "execution_count": 43,
     "metadata": {},
     "output_type": "execute_result"
    }
   ],
   "source": [
    "losses = pd.DataFrame(model.history.history)\n",
    "losses"
   ]
  },
  {
   "cell_type": "code",
   "execution_count": 44,
   "id": "4ba62538",
   "metadata": {
    "execution": {
     "iopub.execute_input": "2022-09-26T19:54:25.889309Z",
     "iopub.status.busy": "2022-09-26T19:54:25.888293Z",
     "iopub.status.idle": "2022-09-26T19:54:25.895031Z",
     "shell.execute_reply": "2022-09-26T19:54:25.895509Z",
     "shell.execute_reply.started": "2022-09-26T19:50:11.811675Z"
    },
    "papermill": {
     "duration": 0.209348,
     "end_time": "2022-09-26T19:54:25.895699",
     "exception": false,
     "start_time": "2022-09-26T19:54:25.686351",
     "status": "completed"
    },
    "tags": []
   },
   "outputs": [
    {
     "data": {
      "text/plain": [
       "0.5050081014633179"
      ]
     },
     "execution_count": 44,
     "metadata": {},
     "output_type": "execute_result"
    }
   ],
   "source": [
    "min(losses['loss'])"
   ]
  },
  {
   "cell_type": "code",
   "execution_count": 45,
   "id": "11a1d204",
   "metadata": {
    "execution": {
     "iopub.execute_input": "2022-09-26T19:54:26.335569Z",
     "iopub.status.busy": "2022-09-26T19:54:26.334802Z",
     "iopub.status.idle": "2022-09-26T19:54:26.728463Z",
     "shell.execute_reply": "2022-09-26T19:54:26.727711Z",
     "shell.execute_reply.started": "2022-09-26T19:50:11.823948Z"
    },
    "papermill": {
     "duration": 0.635803,
     "end_time": "2022-09-26T19:54:26.728622",
     "exception": false,
     "start_time": "2022-09-26T19:54:26.092819",
     "status": "completed"
    },
    "tags": []
   },
   "outputs": [
    {
     "data": {
      "text/plain": [
       "<AxesSubplot:>"
      ]
     },
     "execution_count": 45,
     "metadata": {},
     "output_type": "execute_result"
    },
    {
     "data": {
      "image/png": "[encoded data removed]",
      "text/plain": [
       "<Figure size 432x288 with 1 Axes>"
      ]
     },
     "metadata": {},
     "output_type": "display_data"
    }
   ],
   "source": [
    "losses[['loss','val_loss']].plot()"
   ]
  },
  {
   "cell_type": "code",
   "execution_count": 46,
   "id": "3b477de6",
   "metadata": {
    "execution": {
     "iopub.execute_input": "2022-09-26T19:54:27.136315Z",
     "iopub.status.busy": "2022-09-26T19:54:27.135559Z",
     "iopub.status.idle": "2022-09-26T19:54:27.304438Z",
     "shell.execute_reply": "2022-09-26T19:54:27.303466Z",
     "shell.execute_reply.started": "2022-09-26T19:50:12.182130Z"
    },
    "papermill": {
     "duration": 0.375887,
     "end_time": "2022-09-26T19:54:27.304606",
     "exception": false,
     "start_time": "2022-09-26T19:54:26.928719",
     "status": "completed"
    },
    "tags": []
   },
   "outputs": [
    {
     "name": "stderr",
     "output_type": "stream",
     "text": [
      "/opt/conda/lib/python3.7/site-packages/tensorflow/python/keras/engine/sequential.py:450: UserWarning: `model.predict_classes()` is deprecated and will be removed after 2021-01-01. Please use instead:* `np.argmax(model.predict(x), axis=-1)`,   if your model does multi-class classification   (e.g. if it uses a `softmax` last-layer activation).* `(model.predict(x) > 0.5).astype(\"int32\")`,   if your model does binary classification   (e.g. if it uses a `sigmoid` last-layer activation).\n",
      "  warnings.warn('`model.predict_classes()` is deprecated and '\n"
     ]
    }
   ],
   "source": [
    "ann_prediction = model.predict_classes(X_test)"
   ]
  },
  {
   "cell_type": "code",
   "execution_count": 47,
   "id": "950393c3",
   "metadata": {
    "execution": {
     "iopub.execute_input": "2022-09-26T19:54:27.709492Z",
     "iopub.status.busy": "2022-09-26T19:54:27.708482Z",
     "iopub.status.idle": "2022-09-26T19:54:27.715185Z",
     "shell.execute_reply": "2022-09-26T19:54:27.715708Z",
     "shell.execute_reply.started": "2022-09-26T19:50:12.338937Z"
    },
    "papermill": {
     "duration": 0.211349,
     "end_time": "2022-09-26T19:54:27.715907",
     "exception": false,
     "start_time": "2022-09-26T19:54:27.504558",
     "status": "completed"
    },
    "tags": []
   },
   "outputs": [
    {
     "name": "stdout",
     "output_type": "stream",
     "text": [
      "Accuracy Score:\n",
      "\n",
      "0.7303370786516854\n"
     ]
    }
   ],
   "source": [
    "print('Accuracy Score:\\n')\n",
    "print(accuracy_score(y_test, ann_prediction))"
   ]
  },
  {
   "cell_type": "code",
   "execution_count": 48,
   "id": "b59b5bff",
   "metadata": {
    "execution": {
     "iopub.execute_input": "2022-09-26T19:54:28.197689Z",
     "iopub.status.busy": "2022-09-26T19:54:28.197018Z",
     "iopub.status.idle": "2022-09-26T19:54:28.205383Z",
     "shell.execute_reply": "2022-09-26T19:54:28.204736Z",
     "shell.execute_reply.started": "2022-09-26T19:50:12.346847Z"
    },
    "papermill": {
     "duration": 0.282894,
     "end_time": "2022-09-26T19:54:28.205552",
     "exception": false,
     "start_time": "2022-09-26T19:54:27.922658",
     "status": "completed"
    },
    "tags": []
   },
   "outputs": [
    {
     "name": "stdout",
     "output_type": "stream",
     "text": [
      "Confusion Matrix:\n",
      "\n",
      "[[149  20]\n",
      " [ 52  46]]\n"
     ]
    }
   ],
   "source": [
    "print('Confusion Matrix:\\n')\n",
    "print(confusion_matrix(y_test, ann_prediction))"
   ]
  },
  {
   "cell_type": "code",
   "execution_count": 49,
   "id": "601d03fe",
   "metadata": {
    "execution": {
     "iopub.execute_input": "2022-09-26T19:54:28.625190Z",
     "iopub.status.busy": "2022-09-26T19:54:28.624135Z",
     "iopub.status.idle": "2022-09-26T19:54:28.631971Z",
     "shell.execute_reply": "2022-09-26T19:54:28.633171Z",
     "shell.execute_reply.started": "2022-09-26T19:50:12.365678Z"
    },
    "papermill": {
     "duration": 0.225947,
     "end_time": "2022-09-26T19:54:28.633389",
     "exception": false,
     "start_time": "2022-09-26T19:54:28.407442",
     "status": "completed"
    },
    "tags": []
   },
   "outputs": [
    {
     "name": "stdout",
     "output_type": "stream",
     "text": [
      "Classifition Report:\n",
      "\n",
      "              precision    recall  f1-score   support\n",
      "\n",
      "           0       0.74      0.88      0.81       169\n",
      "           1       0.70      0.47      0.56        98\n",
      "\n",
      "    accuracy                           0.73       267\n",
      "   macro avg       0.72      0.68      0.68       267\n",
      "weighted avg       0.73      0.73      0.72       267\n",
      "\n"
     ]
    }
   ],
   "source": [
    "print('Classifition Report:\\n')\n",
    "print(classification_report(y_test, ann_prediction))"
   ]
  },
  {
   "cell_type": "code",
   "execution_count": null,
   "id": "71cfbe7e",
   "metadata": {
    "papermill": {
     "duration": 0.221157,
     "end_time": "2022-09-26T19:54:29.063003",
     "exception": false,
     "start_time": "2022-09-26T19:54:28.841846",
     "status": "completed"
    },
    "tags": []
   },
   "outputs": [],
   "source": []
  }
 ],
 "metadata": {
  "kernelspec": {
   "display_name": "Python 3",
   "language": "python",
   "name": "python3"
  },
  "language_info": {
   "codemirror_mode": {
    "name": "ipython",
    "version": 3
   },
   "file_extension": ".py",
   "mimetype": "text/x-python",
   "name": "python",
   "nbconvert_exporter": "python",
   "pygments_lexer": "ipython3",
   "version": "3.7.10"
  },
  "papermill": {
   "default_parameters": {},
   "duration": 54.141879,
   "end_time": "2022-09-26T19:54:32.181521",
   "environment_variables": {},
   "exception": null,
   "input_path": "__notebook__.ipynb",
   "output_path": "__notebook__.ipynb",
   "parameters": {},
   "start_time": "2022-09-26T19:53:38.039642",
   "version": "2.3.3"
  }
 },
 "nbformat": 4,
 "nbformat_minor": 5
}
